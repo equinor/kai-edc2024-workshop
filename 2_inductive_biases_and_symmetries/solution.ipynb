{
 "cells": [
  {
   "cell_type": "markdown",
   "metadata": {},
   "source": [
    "# Efficient training of neural networks\n",
    "\n",
    "In the previous notebook, we outlined how neural networks can solve a large variety of tasks. Specifically, we demonstrated that neural networks can be used for image classification and for predicting complex biological processes, such as the conductance of nerve membranes. The main reason for this verstility of neural networks is two-fold: \n",
    "1. neural networks are universal function approximators, meaning they can learn any function from data; and \n",
    "2. surprisingly many tasks can be approximated as input-output relationships, i.e. functions. \n",
    "\n",
    "For example, we saw that digit classification can be achieved by learning a probability density function, $p(y | x)$, where $x$ denotes the pixels in the image, and $y$ denotes the digit. In this notebook, we dive deeper into some of the challenges of learning functions from data -- challenges that are important to understand when modelling language with neural networks.\n",
    "\n",
    "**Learning outcomes:**\n",
    "\n",
    "1. An intuitive understanding of architectural choices for neural networks\n",
    "2. An understanding of the limitations of neural networks when learning functions from data\n",
    "3. The value of prior knowledge for more efficient learning and better generalisation"
   ]
  },
  {
   "cell_type": "code",
   "execution_count": 1,
   "metadata": {},
   "outputs": [],
   "source": [
    "import numpy as np\n",
    "import torch\n",
    "from torch.utils.data import DataLoader\n",
    "import torchvision.datasets as datasets\n",
    "import torch.nn as nn\n",
    "import torch.optim as optim\n",
    "import torch.nn.functional as F\n",
    "import torchvision.transforms as transforms\n",
    "from torchsummary import summary\n",
    "\n",
    "import kai"
   ]
  },
  {
   "cell_type": "markdown",
   "metadata": {},
   "source": [
    "## 1 Using neural networks for language processing\n",
    "\n",
    "The universal function approximation theorem states that multi-layer perceptrons (MLPs) can approximate any function, provided they have sufficiently many artificial neurons. This makes it possible to learn any function from data using neural networks. At this point, you might start to wonder what all of this has to do with natural language processing and large language models... After all, language seems to be quite different from simple input-output relationships, making it hard to imagine how the universality of neural networks helps with processing language.\n",
    "\n",
    "But how different is language from an input-output relationship really? If we think, for example, about chatbots like our very own Equinor AIChat, typical interactions with the chatbot often take the form of questions (inputs) and answers (outputs): We ask a question or make a statement; and the chatpot replies. Hmm, so perhaps some elements of language can be interpreted as an input-output relationship after all!\n",
    "\n",
    "That's exciting! Let us try to develop a neural network that can answer questions."
   ]
  },
  {
   "cell_type": "markdown",
   "metadata": {},
   "source": [
    "### Task 1: Brainstorm how you could use an MLP to answer questions\n",
    "\n",
    "Assume for now that we have a fixed number of questions that can be asked and that also the number of answers to each question is fixed. What could the inputs to the network represent? What would the outputs be?"
   ]
  },
  {
   "cell_type": "markdown",
   "metadata": {},
   "source": [
    "You can document your thoughts here:\n",
    "\n",
    "The challenge of processing language using neural network is that neural networks can only process and output numerical values. We therefore need to map questions and answers to numerical values. A naïve approach to achieve this for a fixed number of questions and answers is to enumerate the questions and the answers. The question ID can then be used as an input to the neural network and the output of the neural network would be either the corresponding answer ID, or, if we want to capture the possibility of multiple answers, a probability mass function over the answer IDs. "
   ]
  },
  {
   "cell_type": "markdown",
   "metadata": {},
   "source": [
    "### Task 2: What are the limitations of the Q&A MLP?\n",
    "\n",
    "After making an initial attempt to define suitable inputs and outputs to the Q&A neural network, have a look at some example questions and answers below. Do you foresee any challenges with answering those questions with your approach? Think especially about how well your model might answer questions that it has not seen before, or even how it might answer questions that only use a slightly different wording than those in the datatset. \n",
    "\n",
    "*Tipp:* If you struggle to see the limitations of your Q&A neural network, let us simply try simply it out and see how well it does! Create a code cell below this one and use the Q&A data to train an MLP. You can copy the neural network definition and the training script from the previous notebook. For simplicity, you could just focus on the first 50 questions and answers in the dataset and use the ``nn.CrossEntropyLoss()`` as an objective for the training. Remember to split your dataset into a training and into a test dataset to test your model on unseen questions. How well can your model answer the questions?"
   ]
  },
  {
   "cell_type": "code",
   "execution_count": 2,
   "metadata": {},
   "outputs": [
    {
     "name": "stdout",
     "output_type": "stream",
     "text": [
      "{'qId': 'wqr000001', 'answers': ['Padmé Amidala'], 'question': 'what character did natalie portman play in star wars?'}\n",
      "\n",
      "{'qId': 'wqr000567', 'answers': ['Apollo 13', 'A Beautiful Mind', 'Curious George', 'Happy Days', 'Cocoon', 'From the Earth to the Moon'], 'question': 'what movies did ron howard do?'}\n",
      "\n",
      "{'qId': 'wqr000718', 'answers': ['Alan Ruck'], 'question': \"who plays ferris bueller's best friend?\"}\n"
     ]
    }
   ],
   "source": [
    "data = kai.get_qa_datatset()\n",
    "\n",
    "print(data[0])\n",
    "print('')\n",
    "print(data[30])\n",
    "print('')\n",
    "print(data[42])"
   ]
  },
  {
   "cell_type": "markdown",
   "metadata": {},
   "source": [
    "Ok, it's obvious that the Equinor AIChat does not use our simple Q&A neural network approach! While it is possible to enumerate questions and answers and to train a neural network to remember the mapping between questions and answers, it does not actually allow the neural network to answer any questions that are not identical to the training questions. In fact, by enumerating questions and answers, we abstract away any logic or knowledge that a human might be able to infer from the question-answer pairs, making it impossible to answer any new questions, even if the answers are contained in the training data.\n",
    "\n",
    "For example, if the training data contained the question-answer pairs:\n",
    "\n",
    "- Q: How long have Alice and Bob been living together? A: Alice and Bob have been living together for 10 years.\n",
    "- Q: Who is Bob's neighbour? A: Bob's neighbour is Anders Opedal.\n",
    "\n",
    "A human can infer that Alice's neighbour is Ander Opedal. But if we asked our simple Q&A neural network \"Who is Alice's neighbour?\", it would not be able to answer the question. In contrast, modern large language models *can* make similar inferences and answer many questions that they have not seen before. So we seem to be missing an important component of developing neural networks to make natural language processing work.\n",
    "\n",
    "Note that, in principle, our Q&A neural network *can* answer any questions provided they are contained in the training data. It simply cannot make any inferences or generalise beyond the training questions in its current formulation. I.e. the universality of neural network approximations is not enough to solve natural language processing in practice."
   ]
  },
  {
   "cell_type": "markdown",
   "metadata": {},
   "source": [
    "## 2 Universal, but not generalisable\n",
    "\n",
    "The challenges of using MLPs for learning function approximations that generalise beyond the training data are not unique to language processing. In fact, one of the first approaches that improved the generalisability of neural networks came from image classification. This advancement ultimately led to the development of the LLM neural networks that we are using today. We will therefore focus in this notebook on understanding this approach.\n",
    "\n",
    "To begin, let us revisit the MNIST image classification task that we have worked on in the previous notebook. Below we have defined the MLP for the image classification. The only new element to the previous notebook is that we have slighly increased the size of the images by padding the space around the digits (see cell below). "
   ]
  },
  {
   "cell_type": "code",
   "execution_count": 3,
   "metadata": {},
   "outputs": [
    {
     "data": {
      "image/png": "[encoded data removed]",
      "text/plain": [
       "<Figure size 1650x900 with 4 Axes>"
      ]
     },
     "metadata": {},
     "output_type": "display_data"
    }
   ],
   "source": [
    "# Load data\n",
    "train_loader, test_loader1, test_loader2 = kai.get_modified_mnist_data()\n",
    "\n",
    "# Get a batch of images and labels\n",
    "images, labels = next(iter(train_loader))\n",
    "\n",
    "kai.plot_images(images, labels)"
   ]
  },
  {
   "cell_type": "markdown",
   "metadata": {},
   "source": [
    "### Task 3: Train the neural network on the new dataset"
   ]
  },
  {
   "cell_type": "code",
   "execution_count": 4,
   "metadata": {},
   "outputs": [
    {
     "name": "stdout",
     "output_type": "stream",
     "text": [
      "Epoch: 0\n",
      "Epoch: 1\n",
      "Epoch: 2\n",
      "Epoch: 3\n",
      "Epoch: 4\n"
     ]
    }
   ],
   "source": [
    "# Define model\n",
    "class NeuralNetwork(nn.Module):\n",
    "    def __init__(self, input_size, num_classes):\n",
    "        super(NeuralNetwork, self).__init__()\n",
    "        self.fc1 = nn.Linear(input_size, 50)\n",
    "        self.fc2 = nn.Linear(50, num_classes)\n",
    "\n",
    "    def forward(self, x):\n",
    "        x = F.relu(self.fc1(x))\n",
    "        x = self.fc2(x)\n",
    "        return x\n",
    "\n",
    "# Set up training\n",
    "input_size = 784 * 4  # Need to increase input size because images are bigger\n",
    "num_classes = 10\n",
    "learning_rate = 0.001\n",
    "num_epochs = 5\n",
    "device = torch.device('cuda' if torch.cuda.is_available() else 'cpu')\n",
    "\n",
    "# Initialize Network\n",
    "model = NeuralNetwork(input_size=input_size, num_classes=num_classes).to(device)\n",
    "\n",
    "# Loss and Optimizer\n",
    "objective = nn.CrossEntropyLoss()\n",
    "optimizer = optim.Adam(model.parameters(), lr=learning_rate)\n",
    "\n",
    "# Train Network\n",
    "kai.train_mnist_model(\n",
    "    num_epochs, model, objective, optimizer, train_loader, device)"
   ]
  },
  {
   "cell_type": "markdown",
   "metadata": {},
   "source": [
    "### Task 4: Check that the accuracy on the training data is still the same\n",
    "You should get an accuracy of >95%."
   ]
  },
  {
   "cell_type": "code",
   "execution_count": 5,
   "metadata": {},
   "outputs": [
    {
     "name": "stdout",
     "output_type": "stream",
     "text": [
      "Accuracy on training data:\n",
      "Got 58383/60000 with accuracy  97.30\n"
     ]
    }
   ],
   "source": [
    "print('Accuracy on training data:')\n",
    "kai.check_accuracy(train_loader, model, device)"
   ]
  },
  {
   "cell_type": "markdown",
   "metadata": {},
   "source": [
    "Amazing! The padding of the images had no effect on the training accuracy -- and why would it?!? The digits in the images remain the same, whether there is black space around them or not. So let's very that the accuracy also is still the same on the test images (which we haven't used for the training)."
   ]
  },
  {
   "cell_type": "markdown",
   "metadata": {},
   "source": [
    "### Task 5: Evaluate the accuracy of the model on the two test datasets\n",
    "The test datasets are defined by ``test_loader1`` and by ``test_loader2``."
   ]
  },
  {
   "cell_type": "code",
   "execution_count": 6,
   "metadata": {},
   "outputs": [
    {
     "name": "stdout",
     "output_type": "stream",
     "text": [
      "Accuracy on test data 1:\n",
      "Got 9662/10000 with accuracy  96.62\n",
      "Accuracy on test data 2:\n",
      "Got 953/10000 with accuracy  9.53\n"
     ]
    }
   ],
   "source": [
    "# TODO: Check the accuracy of the model on the test datasets\n",
    "print('Accuracy on test data 1:')\n",
    "kai.check_accuracy(test_loader1, model, device)\n",
    "\n",
    "print('Accuracy on test data 2:')\n",
    "kai.check_accuracy(test_loader2, model, device)"
   ]
  },
  {
   "cell_type": "markdown",
   "metadata": {},
   "source": [
    "No this is not a typo in the code! The accuracy for one of the datasets is significantly worse than for the other. \n",
    "\n",
    "### Task 6: Discuss the reasons for why the model may perform differently on different test datasets\n",
    "\n",
    "Perhaps, visualising a few images from the test datasets can help you identify the reason..."
   ]
  },
  {
   "cell_type": "code",
   "execution_count": 7,
   "metadata": {},
   "outputs": [
    {
     "data": {
      "image/png": "[encoded data removed]",
      "text/plain": [
       "<Figure size 1650x900 with 4 Axes>"
      ]
     },
     "metadata": {},
     "output_type": "display_data"
    },
    {
     "data": {
      "image/png": "[encoded data removed]",
      "text/plain": [
       "<Figure size 1650x900 with 4 Axes>"
      ]
     },
     "metadata": {},
     "output_type": "display_data"
    }
   ],
   "source": [
    "# TODO: Plot a few images from the test dataset\n",
    "\n",
    "images, labels = next(iter(test_loader1))\n",
    "kai.plot_images(images, labels)\n",
    "\n",
    "images, labels = next(iter(test_loader2))\n",
    "kai.plot_images(images, labels)"
   ]
  },
  {
   "cell_type": "markdown",
   "metadata": {},
   "source": [
    "The images in the first test dataset are padded in exactly the same way as the training images (all digits are located in the top-left corner of the image). On this dataset, the model achieves a very high classification accuracy. In contrast, on the other test dataset, the accuracy of the model is very low at around 10% (as if the model was randomly guessing the digits, or it was always making the same prediction -- 1 out of 10 predictions is correct). \n",
    "\n",
    "The reason for this poor perfomance of the model is that the artificial neurons that process the pixels in the top-right, bottom-left, and bottom-right quadrants are never trained during the model development -- all digits in the training dataset are located in the top-left corner of the images. As a result, the network weights and biases in any other quadrant than the top-left corner do not influence the predictions of the model during training and their values remain random. Consequently, the model's classifications are meaningless for images where the digit is not located in the top-right corner.\n",
    "\n",
    "In this case, this limitation of the training is easy to fix: we can simply complement the training dataset by images where the location of the digit is more variable. However, the need to supplement the training data raises a broader question about the \"intelligence\" of neural networks: how intelligent are MLPs really, if they cannot learn simple concepts, such as a digit, that they can use to make predictions beyond the training data? Afterall, we are looking to create artificial \"intelligence\" and not being able to classify the same digit just because it's located elsewhere in an image does not seem very intelligent...\n",
    "\n",
    "Note, this inability to generalise beyond the training data is very much the same as the problem we faced with the Q&A neural network.\n",
    "\n",
    "*Aside:* Just for completeness, we would like to stress that the challenge is not that MLPs are not capable of learning the correct classification function from the modified MNIST dataset. Neural networks are universal function approximators afterall. So the correct classification function is among the possible outcomes of the training. It is just extremely unlikely for the neural network to randomly approximate the function correctly for images that are not represented in the training dataset. This is because our objective function only measures the correctness of predictions and not that the model uses the right concepts to make those predictions. Below, we focus on ways how we can define neural networks differently to make generalisations easier, but working on how we can construct better objective functions for training is also a powerful way to improve the predictions of a neural network (see e.g. https://doi.org/10.1016/j.jcp.2018.10.045 and https://en.wikipedia.org/wiki/Physics-informed_neural_networks)"
   ]
  },
  {
   "cell_type": "markdown",
   "metadata": {},
   "source": [
    "## 3 Inductive biases\n",
    "\n",
    "One of the first approaches that tackled this lack of \"concept learning\" was developed by Yann Lecun, who is now a Computer Science professor at NYU and the Chief AI scientist at Meta. In his seminal paper, Lecun proposed to exploit prior knowledge about the task of image classification to make the neural network more efficient at learning from data and to help it generalise more easily beyond the training images (see https://hal.science/hal-03926082/document). More specifically, Lecun argued that image classification should not be sensitive to translations of the object of interest (i.e. the location of the digit in the image, see figure below). He therefore proposed the use of neural networks that are explicitly designed to make predictions which are invariant under these translations.\n",
    "\n",
    "<img src=\"translation_invariance.gif\" width=\"500\" style=\"display: block; margin: 0 auto\" >\n",
    "\n",
    "His proposal to achieve this was to slighty modify how MLPs process images by introducing small blocks of artifical neurons that are slided across all patches of the image (see figure below). In this way, patterns learned in one region of the image can also be recognised in other regions of the image. These neural network layers are known as convolutional layers (in reference to functional analysis and physics, see https://en.wikipedia.org/wiki/Convolution).\n",
    "\n",
    "<img src=\"convolution.gif\" width=\"500\" style=\"display: block; margin: 0 auto\" >\n",
    "\n",
    "Using convolutional layers, Lecun defined the first convolutional neural network (CNN) which was the first neural network that was able to learn something close to a concept of a digit in order to classify images correctly beyond the training dataset (see below). His network consisted of 2 convolutional layers, each followed by a pooling layer. We will work through these details below. Note that the final component of the network remains a MLP (see the final two \"dense\" layers in the figure). Dense layers are the layers that we have used before, where each input is processed by all artificial neurons. Dense layers are also sometimes referred to as fully connected layers. \n",
    "\n",
    "<img src=\"Lenet.svg\" width=\"500\" style=\"display: block; margin: 0 auto\" >\n",
    "\n",
    "Below we will implement Lecun's CNN, but before we do so, we just want to comment on the quite substantially more complex-looking architecture of the neural network in comparison to our \"simple\" MLPs that we used in the previous notebook. While Lecun's CNN looks complex at first, conceptually, its architecture is actually quite intuitive: it has one block that is responsible for feature extraction (the convolutional layers); and another block that is responsible for the classification (the dense layers). The feature extractor is based on prior knowledge of the image classification task and it implements inductive biases that help the neural network to learn more efficiently from data and to generalise more easily beyond the training data. The dense layers are not based on any prior assumptions about the modelling task and they simply make use of the universality of MLPs to map the extracted features to the probability masses of the digits. This combination of the universal function approximation theorem and inductive biases is one of the main reasons for the wide success of neural networks in recent years (including language processing)."
   ]
  },
  {
   "cell_type": "markdown",
   "metadata": {},
   "source": [
    "### Task 7: Implement a convolutional layer\n",
    "\n",
    "A convolutional layer processes inputs similar to the dense layers (``nn.Linear``) that we have used before, the only difference is that now a smaller number of artificial neurons is slided across the inputs, such that patterns learned from one patch of signals can also benefit the processing of another patch of signals. The neurons process the inputs as before by: 1. mutliplying the signals by model weights; 2. summing the weighted signals; 3. adding a bias; and 4. applying an activation function.\n",
    "\n",
    "For images, this \"patch processing\" takes the form of sliding a small window of model weights across the image (see below). After multiplying the inputs by the weights, the values are summed up and a bias is added to produce the value for one patch of signals before applying the activation function. In the figure below, the bias is equal to 0.\n",
    "\n",
    "<img src=\"convolutional_layer.gif\" width=\"500\" style=\"display: block; margin: 0 auto\" >\n",
    "\n",
    "Implement a convolutional layer that takes an image (two-dimensional array of shape (n, m)), the model weights (two-dimensional array of shape (k, k)) and the bias (float) as input, and it returns the processed image. For simplicity, we will choose a window of size 3x3 and assume that the input image is larger than 3x3 (just like in the image above)."
   ]
  },
  {
   "cell_type": "code",
   "execution_count": 30,
   "metadata": {},
   "outputs": [],
   "source": [
    "# TODO: Complete the implementation\n",
    "def convolutional_layer(inputs, weights, bias):\n",
    "    inputs = np.array(inputs)\n",
    "    m, n = inputs.shape\n",
    "    if (m <= 3) or (n <= 3):\n",
    "        raise ValueError('Inputs has the wrong shape.')\n",
    "    weights = np.array(weights)\n",
    "    k1, k2 = weights.shape\n",
    "    if (k1 != 3) or (k2 != 3):\n",
    "        raise ValueError('Weights has the wrong shape.')\n",
    "    bias = float(bias)\n",
    "\n",
    "    # TODO Implement the convolution\n",
    "    output = np.empty(shape=(m-2, n-2))\n",
    "\n",
    "    # Apply convolution\n",
    "    for idm in range(m-2):\n",
    "        for idn in range(n-2):\n",
    "            output[idm, idn] = np.sum(inputs[idm:idm+3, idn:idn+3] * weights)\n",
    "\n",
    "    # Add bias\n",
    "    output += bias\n",
    "\n",
    "    return output"
   ]
  },
  {
   "cell_type": "code",
   "execution_count": 39,
   "metadata": {},
   "outputs": [],
   "source": [
    "# Test your implementation\n",
    "# Test 1\n",
    "inputs = np.array([\n",
    "    [1, 1, 1, 0, 0],\n",
    "    [0, 1, 1, 1, 0],\n",
    "    [0, 0, 1, 1, 1],\n",
    "    [0, 0, 1, 1, 0],\n",
    "    [0, 1, 1, 0, 0]\n",
    "])\n",
    "weights = np.array([\n",
    "    [1, 0, 1],\n",
    "    [0, 1, 0],\n",
    "    [1, 0, 1]\n",
    "])\n",
    "bias = 0\n",
    "output = convolutional_layer(inputs, weights, bias)\n",
    "true = np.array([\n",
    "    [4, 3, 4],\n",
    "    [2, 4, 3],\n",
    "    [2, 3, 4]\n",
    "])\n",
    "np.testing.assert_equal(output, true)\n",
    "\n",
    "# Test 2\n",
    "bias = 5\n",
    "output = convolutional_layer(inputs, weights, bias)\n",
    "true = np.array([\n",
    "    [9, 8, 9],\n",
    "    [7, 9, 8],\n",
    "    [7, 8, 9]\n",
    "])\n",
    "np.testing.assert_equal(output, true)\n",
    "\n",
    "# Test 3\n",
    "weights = np.array([\n",
    "    [1, 0, 1],\n",
    "    [0, 0, 0],\n",
    "    [1, 0, 1]\n",
    "])\n",
    "output = convolutional_layer(inputs, weights, bias)\n",
    "true = np.array([\n",
    "    [8, 7, 8],\n",
    "    [7, 8, 7],\n",
    "    [7, 7, 8]\n",
    "])\n",
    "np.testing.assert_equal(output, true)\n"
   ]
  },
  {
   "cell_type": "markdown",
   "metadata": {},
   "source": [
    "### Task 8: Discuss the purpose of a pooling layer\n",
    "\n",
    "In Lecun's CNN each convolutional layer is followed by a pooling layer. A pooling layer aggregates neighbouring inputs into one output. This aggregation can take different forms. For example, the figure below shows a \"max pooling\" on the left and an \"average pooling\" on the right. For the max pooling, the output is the maximum value among the cluster of neighbouring pixels, while for the average pooling, the average value across the cluster of neighbouring pixels is returned.\n",
    "\n",
    "<img src=\"average_pooling.gif\" width=\"500\" style=\"display: block; margin: 0 auto\" >\n",
    "\n",
    "Discuss in your group the purpose of pooling layers for the image classification task. Do they make features extracted by convolutional layers more robust? Are they simply a way of condensing the amount information that is being processed?"
   ]
  },
  {
   "cell_type": "markdown",
   "metadata": {},
   "source": [
    "Pooling layers serve two purposes: 1. they help to sharpen features; and 2. they help to reduce the computational costs of image processing. To see why sharpening of features is needed in the first place, have a look at the output of different convolutional layers applied to an image in the figure below. Here the image shows a face and the weights of the convolutional layers are able to highlight different features of the face. Convolutions can therefore also be thought of as applying filters to the image. The top left panel shows the outputs of 16 different convolutions, each with a window of size 3x3. The top-right panel also shows the output of 16 convolutions, but this time the convolution widow is larger (7x7). The final panel uses an even larger convolution window. \n",
    "\n",
    "<img src=\"smearing.png\" width=\"500\" style=\"display: block; margin: 0 auto\" >\n",
    "\n",
    "The figure shows that although the convolutions can highlight different features of the face, they do smear out edges and contrasts, especially as the size of the convolution window increases. To counter this smearing out, pooling layers condense these feature map by aggregating values across neighbourhoods (see figure below).\n",
    "\n",
    "<img src=\"effect_of_pooling.png\" width=\"500\" style=\"display: block; margin: 0 auto\" >\n",
    "\n",
    "Besides helping to preserve edges and contrasts, pooling layers also reduce the size of the feature maps. For example if we aggregate the values across neighbourhoods of 4 pixels, we reduce the size of the feature maps by 25%. This helps to control the increase of computational costs resulting from applying different filters (convolutions) to the input image."
   ]
  },
  {
   "cell_type": "markdown",
   "metadata": {},
   "source": [
    "### Task 9: Implement Lecun's CNN (LeNet)\n",
    "\n",
    "Below is a diagram of Lecun's CNN, referred to as LeNet. Use PyTorch's pre-implemented layers (``nn.Conv2d``, ``nn.AvgPool2d``, ``nn.Linear``) to implement the LeNet neural network. You can find the API definition of the layers here: https://pytorch.org/docs/stable/nn.html. When you are finished implementing the neural network, train it on the MNIST dataset. We will first train it on the original MNIST dataset to establish that the network works as expected.\n",
    "\n",
    "<img src=\"lenet-architecture.svg\" width=\"150\" style=\"display: block; margin: 0 auto\" >"
   ]
  },
  {
   "cell_type": "code",
   "execution_count": 133,
   "metadata": {},
   "outputs": [],
   "source": [
    "class LeNet(nn.Module):\n",
    "\n",
    "    def __init__(self):\n",
    "        super(LeNet, self).__init__()\n",
    "        self.feature_extractor = nn.Sequential(\n",
    "            nn.Conv2d(in_channels=1, out_channels=6, kernel_size=5, stride=1, padding=2),\n",
    "            nn.ReLU(),\n",
    "            nn.AvgPool2d(kernel_size=2, stride=2),\n",
    "\n",
    "            nn.Conv2d(in_channels=6, out_channels=16, kernel_size=5, stride=1, padding=0),\n",
    "            nn.ReLU(),\n",
    "            nn.AvgPool2d(kernel_size=2, stride=2),\n",
    "        )\n",
    "\n",
    "        self.classifier = nn.Sequential(\n",
    "            nn.Linear(400, 120),  # in_features = 16 x5x5\n",
    "            nn.ReLU(),\n",
    "            nn.Linear(120, 84),\n",
    "            nn.ReLU(),\n",
    "            nn.Linear(84, 10),\n",
    "            nn.Softmax(dim=1)\n",
    "        )\n",
    "\n",
    "    def forward(self,x):\n",
    "        out = self.feature_extractor(x)\n",
    "        out = torch.flatten(out, 1)\n",
    "        out = self.classifier(out)\n",
    "        return out"
   ]
  },
  {
   "cell_type": "code",
   "execution_count": 134,
   "metadata": {},
   "outputs": [
    {
     "name": "stdout",
     "output_type": "stream",
     "text": [
      "----------------------------------------------------------------\n",
      "        Layer (type)               Output Shape         Param #\n",
      "================================================================\n",
      "            Conv2d-1            [-1, 6, 28, 28]             156\n",
      "              ReLU-2            [-1, 6, 28, 28]               0\n",
      "         AvgPool2d-3            [-1, 6, 14, 14]               0\n",
      "            Conv2d-4           [-1, 16, 10, 10]           2,416\n",
      "              ReLU-5           [-1, 16, 10, 10]               0\n",
      "         AvgPool2d-6             [-1, 16, 5, 5]               0\n",
      "            Linear-7                  [-1, 120]          48,120\n",
      "              ReLU-8                  [-1, 120]               0\n",
      "            Linear-9                   [-1, 84]          10,164\n",
      "             ReLU-10                   [-1, 84]               0\n",
      "           Linear-11                   [-1, 10]             850\n",
      "          Softmax-12                   [-1, 10]               0\n",
      "================================================================\n",
      "Total params: 61,706\n",
      "Trainable params: 61,706\n",
      "Non-trainable params: 0\n",
      "----------------------------------------------------------------\n",
      "Input size (MB): 0.00\n",
      "Forward/backward pass size (MB): 0.11\n",
      "Params size (MB): 0.24\n",
      "Estimated Total Size (MB): 0.35\n",
      "----------------------------------------------------------------\n"
     ]
    }
   ],
   "source": [
    "# TODO: Test that the implementation of the network is correct\n",
    "# (The summary function is a useful way to check the implementation of neural networks)\n",
    "model = LeNet()\n",
    "s = summary(model, input_size=(1, 28, 28))"
   ]
  },
  {
   "cell_type": "code",
   "execution_count": 11,
   "metadata": {},
   "outputs": [],
   "source": [
    "# Load MNIST dataset\n",
    "batch_size = 64\n",
    "\n",
    "# Load Data\n",
    "train_dataset = datasets.MNIST(root='dataset/', train=True, transform=transforms.ToTensor(), download=True)\n",
    "train_loader = DataLoader(dataset=train_dataset, batch_size=batch_size, shuffle=True)\n",
    "\n",
    "test_dataset = datasets.MNIST(root='dataset/', train=False, transform=transforms.ToTensor(), download=True)\n",
    "test_loader = DataLoader(dataset=test_dataset, batch_size=batch_size, shuffle=True)"
   ]
  },
  {
   "cell_type": "code",
   "execution_count": 12,
   "metadata": {},
   "outputs": [
    {
     "name": "stdout",
     "output_type": "stream",
     "text": [
      "Epoch: 0\n",
      "Epoch: 1\n",
      "Epoch: 2\n",
      "Epoch: 3\n",
      "Epoch: 4\n"
     ]
    }
   ],
   "source": [
    "# Train Network\n",
    "learning_rate = 0.001\n",
    "num_epochs = 5\n",
    "\n",
    "device = torch.device('cuda' if torch.cuda.is_available() else 'cpu')\n",
    "model = LeNet().to(device)\n",
    "criterion = nn.CrossEntropyLoss()\n",
    "optimizer = optim.Adam(model.parameters(), lr=learning_rate)\n",
    "for epoch in range(num_epochs):\n",
    "    print(f'Epoch: {epoch}')\n",
    "\n",
    "    for batch_idx, (data, targets) in enumerate(train_loader):\n",
    "        data = data.to(device=device)\n",
    "        targets = targets.to(device=device)\n",
    "\n",
    "        scores = model(data)\n",
    "        loss = criterion(scores, targets)\n",
    "\n",
    "        # backward\n",
    "        optimizer.zero_grad()  # set all gradients to zero for each batch\n",
    "        loss.backward()\n",
    "\n",
    "        # gradient descent\n",
    "        optimizer.step()"
   ]
  },
  {
   "cell_type": "code",
   "execution_count": 13,
   "metadata": {},
   "outputs": [
    {
     "name": "stdout",
     "output_type": "stream",
     "text": [
      "Got 58810/60000 with accuracy  98.02\n",
      "Got 9811/10000 with accuracy  98.11\n"
     ]
    }
   ],
   "source": [
    "# Check the performance of the model\n",
    "kai.check_accuracy(train_loader, model, device)\n",
    "kai.check_accuracy(test_loader, model, device)"
   ]
  },
  {
   "cell_type": "markdown",
   "metadata": {},
   "source": [
    "Amazing! You have just implemented your first CNN. Let us keep the momentum high and train the CNN on the modified MNIST dataset to see whether it is better at generalising beyond the training data."
   ]
  },
  {
   "cell_type": "markdown",
   "metadata": {},
   "source": [
    "### Task 10: Train the model on the modified MNIST dataset\n",
    "Note that you have to slightly modify the neural network, because increasing the size of the input images will change the size of the feature maps, and the first fully connected layer of the classifier assumes an input size of 16 x 5 x 5 = 400. This is because the outputs of the final convolutional block (convolutional layer and pooling layer) are 16 5x5 feature images. How does the size of the feature images change when the input image size is 4 times larger?"
   ]
  },
  {
   "cell_type": "code",
   "execution_count": 71,
   "metadata": {},
   "outputs": [],
   "source": [
    "# TODO: Update the model, so it can process the larger images\n",
    "class LeNet2(nn.Module):\n",
    "\n",
    "    def __init__(self):\n",
    "        super(LeNet2, self).__init__()\n",
    "        self.feature_extractor = nn.Sequential(\n",
    "            nn.Conv2d(in_channels=1, out_channels=6, kernel_size=5, stride=1, padding=2),\n",
    "            nn.ReLU(),\n",
    "            nn.AvgPool2d(kernel_size=2, stride=2),\n",
    "\n",
    "            nn.Conv2d(in_channels=6, out_channels=16, kernel_size=5, stride=1, padding=0),\n",
    "            nn.ReLU(),\n",
    "            nn.AvgPool2d(kernel_size=2, stride=2),\n",
    "        )\n",
    "\n",
    "        self.classifier = nn.Sequential(\n",
    "            nn.Linear(12*12*16, 120),\n",
    "            nn.ReLU(),\n",
    "            nn.Linear(120, 84),\n",
    "            nn.ReLU(),\n",
    "            nn.Linear(84, 10),\n",
    "            nn.Softmax(dim=1)\n",
    "        )\n",
    "\n",
    "    def forward(self,x):\n",
    "        out = self.feature_extractor(x)\n",
    "        out = torch.flatten(out, 1)\n",
    "        out = self.classifier(out)\n",
    "        return out"
   ]
  },
  {
   "cell_type": "code",
   "execution_count": 72,
   "metadata": {},
   "outputs": [
    {
     "name": "stdout",
     "output_type": "stream",
     "text": [
      "----------------------------------------------------------------\n",
      "        Layer (type)               Output Shape         Param #\n",
      "================================================================\n",
      "            Conv2d-1            [-1, 6, 56, 56]             156\n",
      "              ReLU-2            [-1, 6, 56, 56]               0\n",
      "         AvgPool2d-3            [-1, 6, 28, 28]               0\n",
      "            Conv2d-4           [-1, 16, 24, 24]           2,416\n",
      "              ReLU-5           [-1, 16, 24, 24]               0\n",
      "         AvgPool2d-6           [-1, 16, 12, 12]               0\n",
      "            Linear-7                  [-1, 120]         276,600\n",
      "              ReLU-8                  [-1, 120]               0\n",
      "            Linear-9                   [-1, 84]          10,164\n",
      "             ReLU-10                   [-1, 84]               0\n",
      "           Linear-11                   [-1, 10]             850\n",
      "          Softmax-12                   [-1, 10]               0\n",
      "================================================================\n",
      "Total params: 290,186\n",
      "Trainable params: 290,186\n",
      "Non-trainable params: 0\n",
      "----------------------------------------------------------------\n",
      "Input size (MB): 0.01\n",
      "Forward/backward pass size (MB): 0.48\n",
      "Params size (MB): 1.11\n",
      "Estimated Total Size (MB): 1.60\n",
      "----------------------------------------------------------------\n"
     ]
    }
   ],
   "source": [
    "# Test the implementation of the modified model\n",
    "model = LeNet2()\n",
    "s = summary(model, input_size=(1, 28*2, 28*2))"
   ]
  },
  {
   "cell_type": "code",
   "execution_count": null,
   "metadata": {},
   "outputs": [],
   "source": [
    "# Load modified MNIST dataset (kai.get_modified_mnist_data)\n",
    "train_loader, test_loader1, test_loader2 = kai.get_modified_mnist_data()"
   ]
  },
  {
   "cell_type": "code",
   "execution_count": 73,
   "metadata": {},
   "outputs": [
    {
     "name": "stdout",
     "output_type": "stream",
     "text": [
      "Epoch: 0\n",
      "Epoch: 1\n",
      "Epoch: 2\n",
      "Epoch: 3\n",
      "Epoch: 4\n"
     ]
    }
   ],
   "source": [
    "# TODO: Train the neural network on the modified MNIST dataset\n",
    "# Train Network\n",
    "learning_rate = 0.001\n",
    "num_epochs = 5\n",
    "\n",
    "device = torch.device('cuda' if torch.cuda.is_available() else 'cpu')\n",
    "model = LeNet2().to(device)\n",
    "criterion = nn.CrossEntropyLoss()\n",
    "optimizer = optim.Adam(model.parameters(), lr=learning_rate)\n",
    "for epoch in range(num_epochs):\n",
    "    print(f'Epoch: {epoch}')\n",
    "\n",
    "    for batch_idx, (data, targets) in enumerate(train_loader):\n",
    "        data = data.to(device=device)\n",
    "        targets = targets.to(device=device)\n",
    "\n",
    "        scores = model(data)\n",
    "        loss = criterion(scores, targets)\n",
    "\n",
    "        # backward\n",
    "        optimizer.zero_grad()  # set all gradients to zero for each batch\n",
    "        loss.backward()\n",
    "\n",
    "        # gradient descent\n",
    "        optimizer.step()"
   ]
  },
  {
   "cell_type": "code",
   "execution_count": 74,
   "metadata": {},
   "outputs": [
    {
     "name": "stdout",
     "output_type": "stream",
     "text": [
      "Got 58898/60000 with accuracy  98.16\n",
      "Got 9804/10000 with accuracy  98.04\n",
      "Got 1028/10000 with accuracy  10.28\n"
     ]
    }
   ],
   "source": [
    "# Check the performance of the model\n",
    "kai.check_accuracy(train_loader, model, device)\n",
    "kai.check_accuracy(test_loader1, model, device)\n",
    "kai.check_accuracy(test_loader2, model, device)"
   ]
  },
  {
   "cell_type": "markdown",
   "metadata": {},
   "source": [
    "Hmm, that was a lot of work for no improvement on the second test dataset at all!! Why do you think does the LeNet network not improve on the test dataset and what can we do to fix it?"
   ]
  },
  {
   "cell_type": "markdown",
   "metadata": {},
   "source": [
    "### Task 11: Discuss in your group why LeNet is not fully invariant to translations after all"
   ]
  },
  {
   "cell_type": "markdown",
   "metadata": {},
   "source": [
    "You can document your thoughts here:\n",
    "\n",
    "The reason why the LeNet network does not improve is because the predictions of the model are not invariant under translations after all! But how can that be? Didn't we introduce CNNs for the sole purpose of making model predictions invariant under translations? Yes, it's just that convolutional layers are not actually invariant under translations -- they are equivariant. Equivariance means, loosely speaking, that the output of a function changes in the same way as its input (see right panel in the figure below). We can detect a pattern anywhere in the image using convolution layers, but the activations of the output of the convolution layers will change with the location of pattern.\n",
    "\n",
    "<img src=\"invariance_vs_equivariance.png\" width=\"500\" style=\"display: block; margin: 0 auto\" >\n",
    "\n",
    "This in itself is a good thing for better generalisability of model predictions. The problem arises when we hand over the extracted features after the last convolutional block to the fully connected layers by simply flattening the feature images. The feature images are still sensitive to the location of the digit in the image, and by feeding them to the classifier we have the same problem as before that only certain artificial neurons are being trained, while others remain random.\n",
    "\n",
    "One way to fix this and finally arrive at an image classifier that is more invariant under translations is to condense the feature maps into single outputs before handing them to the classifier."
   ]
  },
  {
   "cell_type": "markdown",
   "metadata": {},
   "source": [
    "### Task 12: ..."
   ]
  },
  {
   "cell_type": "code",
   "execution_count": 149,
   "metadata": {},
   "outputs": [],
   "source": [
    "class LeNet3(nn.Module):\n",
    "\n",
    "    def __init__(self):\n",
    "        super(LeNet3, self).__init__()\n",
    "        self.feature_extractor = nn.Sequential(\n",
    "            nn.Conv2d(in_channels=1, out_channels=8, kernel_size=5, stride=1, padding=2),\n",
    "            nn.ReLU(),\n",
    "            nn.AvgPool2d(kernel_size=2, stride=2),\n",
    "\n",
    "            nn.Conv2d(in_channels=8, out_channels=32, kernel_size=5, stride=1, padding=0),\n",
    "            nn.ReLU(),\n",
    "            nn.AvgPool2d(kernel_size=2, stride=2),\n",
    "\n",
    "            # TODO: Add a pooling layer which averages over each feature image\n",
    "            nn.AvgPool2d(kernel_size=12, stride=1),\n",
    "        )\n",
    "\n",
    "        self.classifier = nn.Sequential(\n",
    "            nn.Linear(32, 120),\n",
    "            nn.ReLU(),\n",
    "            nn.Linear(120, 84),\n",
    "            nn.ReLU(),\n",
    "            nn.Linear(84, 10),\n",
    "            nn.Softmax(dim=1)\n",
    "        )\n",
    "\n",
    "    def forward(self,x):\n",
    "        out = self.feature_extractor(x)\n",
    "        out = torch.flatten(out, 1)\n",
    "        out = self.classifier(out)\n",
    "        return out"
   ]
  },
  {
   "cell_type": "code",
   "execution_count": 150,
   "metadata": {},
   "outputs": [
    {
     "name": "stdout",
     "output_type": "stream",
     "text": [
      "----------------------------------------------------------------\n",
      "        Layer (type)               Output Shape         Param #\n",
      "================================================================\n",
      "            Conv2d-1            [-1, 8, 56, 56]             208\n",
      "              ReLU-2            [-1, 8, 56, 56]               0\n",
      "         AvgPool2d-3            [-1, 8, 28, 28]               0\n",
      "            Conv2d-4           [-1, 32, 24, 24]           6,432\n",
      "              ReLU-5           [-1, 32, 24, 24]               0\n",
      "         AvgPool2d-6           [-1, 32, 12, 12]               0\n",
      "         AvgPool2d-7             [-1, 32, 1, 1]               0\n",
      "            Linear-8                  [-1, 120]           3,960\n",
      "              ReLU-9                  [-1, 120]               0\n",
      "           Linear-10                   [-1, 84]          10,164\n",
      "             ReLU-11                   [-1, 84]               0\n",
      "           Linear-12                   [-1, 10]             850\n",
      "          Softmax-13                   [-1, 10]               0\n",
      "================================================================\n",
      "Total params: 21,614\n",
      "Trainable params: 21,614\n",
      "Non-trainable params: 0\n",
      "----------------------------------------------------------------\n",
      "Input size (MB): 0.01\n",
      "Forward/backward pass size (MB): 0.75\n",
      "Params size (MB): 0.08\n",
      "Estimated Total Size (MB): 0.84\n",
      "----------------------------------------------------------------\n"
     ]
    }
   ],
   "source": [
    "# Test the implementation of the modified model\n",
    "model = LeNet3()\n",
    "s = summary(model, input_size=(1, 28*2, 28*2))"
   ]
  },
  {
   "cell_type": "code",
   "execution_count": 151,
   "metadata": {},
   "outputs": [
    {
     "name": "stdout",
     "output_type": "stream",
     "text": [
      "Epoch: 0\n",
      "Epoch: 1\n",
      "Epoch: 2\n",
      "Epoch: 3\n",
      "Epoch: 4\n"
     ]
    }
   ],
   "source": [
    "# Train Network\n",
    "learning_rate = 0.001\n",
    "num_epochs = 5\n",
    "\n",
    "device = torch.device('cuda' if torch.cuda.is_available() else 'cpu')\n",
    "model = LeNet3().to(device)\n",
    "criterion = nn.CrossEntropyLoss()\n",
    "optimizer = optim.Adam(model.parameters(), lr=learning_rate)\n",
    "for epoch in range(num_epochs):\n",
    "    print(f'Epoch: {epoch}')\n",
    "\n",
    "    for batch_idx, (data, targets) in enumerate(train_loader):\n",
    "        data = data.to(device=device)\n",
    "        targets = targets.to(device=device)\n",
    "\n",
    "        scores = model(data)\n",
    "        loss = criterion(scores, targets)\n",
    "\n",
    "        # backward\n",
    "        optimizer.zero_grad()  # set all gradients to zero for each batch\n",
    "        loss.backward()\n",
    "\n",
    "        # gradient descent\n",
    "        optimizer.step()"
   ]
  },
  {
   "cell_type": "code",
   "execution_count": 152,
   "metadata": {},
   "outputs": [
    {
     "name": "stdout",
     "output_type": "stream",
     "text": [
      "Got 47713/60000 with accuracy  79.52\n",
      "Got 8036/10000 with accuracy  80.36\n",
      "Got 4211/10000 with accuracy  42.11\n"
     ]
    }
   ],
   "source": [
    "# Check the performance of the model\n",
    "kai.check_accuracy(train_loader, model, device)\n",
    "kai.check_accuracy(test_loader1, model, device)\n",
    "kai.check_accuracy(test_loader2, model, device)"
   ]
  },
  {
   "cell_type": "markdown",
   "metadata": {},
   "source": [
    "Ok, now we are getting somewhere! The generalisation is still not perfect and we seemed to have compromised the performance on the trainining dataset. Feel free to play around with the CNN more to improve the performance further."
   ]
  },
  {
   "cell_type": "code",
   "execution_count": null,
   "metadata": {},
   "outputs": [],
   "source": []
  }
 ],
 "metadata": {
  "kernelspec": {
   "display_name": "venv",
   "language": "python",
   "name": "python3"
  },
  "language_info": {
   "codemirror_mode": {
    "name": "ipython",
    "version": 3
   },
   "file_extension": ".py",
   "mimetype": "text/x-python",
   "name": "python",
   "nbconvert_exporter": "python",
   "pygments_lexer": "ipython3",
   "version": "3.12.4"
  }
 },
 "nbformat": 4,
 "nbformat_minor": 2
}
