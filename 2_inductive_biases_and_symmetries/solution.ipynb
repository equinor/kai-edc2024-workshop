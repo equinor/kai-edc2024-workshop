{
 "cells": [
  {
   "cell_type": "markdown",
   "metadata": {},
   "source": [
    "# Inductive biases and symmetries"
   ]
  },
  {
   "cell_type": "markdown",
   "metadata": {},
   "source": [
    "**Group work:** It's time for group work! Form groups of 2 and work through the notebook together.\n",
    "\n",
    "In the previous notebook, we saw that neural networks can be used to solve a large variety of tasks. The main reason for the verstility of neural networks is two-fold: 1. neural networks are universal function approximators, meaning they can learn any function from data; and 2. surprisingly many tasks can be approximated as input-output relationships, i.e. functions. For example, we saw that digit classification can be achieved by learning a probability density function, $p(y | x)$, where $x$ denotes the pixels in the image, and $y$ denotes the digit. In this notebook, we dive deeper into some of the challenges of learning functions from data -- challenges that are important to understand when modelling language with neural networks.\n",
    "\n",
    "More specifically, we focus on two related aspects of training neural networks: 1. the ability of neural networks to learn efficiently from data; and 2. the ability of neural networks to generalise beyond the training data.\n",
    "\n",
    "**Learning outcomes:**\n",
    "\n",
    "1. An intuitive understanding of architectural choices for neural networks\n",
    "2. The limitations of learning functions from data (especially for extrapolation!)\n",
    "3. The value of prior knowledge for more efficient learning and better generalisation\n",
    "\n",
    "Credit goes to https://medium.com/@bpoyeka1/building-simple-neural-networks-nn-cnn-using-pytorch-for-mnist-dataset-31e459d17788 for providing a starting point of this notebook."
   ]
  },
  {
   "cell_type": "code",
   "execution_count": 2,
   "metadata": {},
   "outputs": [],
   "source": [
    "import matplotlib.gridspec as gridspec\n",
    "import matplotlib.pyplot as plt\n",
    "import torch\n",
    "import torch.nn as nn\n",
    "import torch.optim as optim\n",
    "import torch.nn.functional as F\n",
    "from torch.utils.data import DataLoader\n",
    "import torchvision.datasets as datasets\n",
    "import torchvision.transforms as transforms"
   ]
  },
  {
   "cell_type": "markdown",
   "metadata": {},
   "source": [
    "## 1 The limitations of learning functions from data: using MNIST as an example\n",
    "\n",
    "To begin this session, let us revisit the MNIST image classification challenge that we have worked on in the previous notebook. To classify images into one of 10 digits, we used a multi-layer perceptron to process images and predict the probability masses for the different class labels."
   ]
  },
  {
   "cell_type": "markdown",
   "metadata": {},
   "source": [
    "### Task 1: Run the cells below to repeat the training of the model from the last notebook"
   ]
  },
  {
   "cell_type": "code",
   "execution_count": 15,
   "metadata": {},
   "outputs": [
    {
     "name": "stdout",
     "output_type": "stream",
     "text": [
      "Epoch: 0\n",
      "Epoch: 1\n",
      "Epoch: 2\n",
      "Epoch: 3\n",
      "Epoch: 4\n"
     ]
    }
   ],
   "source": [
    "# Define model\n",
    "class NN(nn.Module):\n",
    "    def __init__(self, input_size, num_classes):\n",
    "        super(NN, self).__init__()\n",
    "        self.fc1 = nn.Linear(input_size, 50)\n",
    "        self.fc2 = nn.Linear(50, num_classes)\n",
    "\n",
    "    def forward(self, x):\n",
    "        x = F.relu(self.fc1(x))\n",
    "        x = self.fc2(x)\n",
    "        return x\n",
    "\n",
    "# Load Data\n",
    "batch_size = 64\n",
    "train_dataset = datasets.MNIST(root='dataset/', train=True, transform=transforms.ToTensor(), download=True)\n",
    "train_loader = DataLoader(dataset=train_dataset, batch_size=batch_size, shuffle=True)\n",
    "test_dataset = datasets.MNIST(root='dataset/', train=False, transform=transforms.ToTensor(), download=True)\n",
    "test_loader = DataLoader(dataset=test_dataset, batch_size=batch_size, shuffle=True)\n",
    "\n",
    "# Set up training\n",
    "input_size = 784\n",
    "num_classes = 10\n",
    "learning_rate = 0.001\n",
    "num_epochs = 5\n",
    "device = torch.device('cuda' if torch.cuda.is_available() else 'cpu')\n",
    "\n",
    "# Initialize Network\n",
    "model = NN(input_size=input_size, num_classes=num_classes).to(device)\n",
    "\n",
    "# Loss and Optimizer\n",
    "criterion = nn.CrossEntropyLoss()\n",
    "optimizer = optim.Adam(model.parameters(), lr=learning_rate)\n",
    "\n",
    "# Train Network\n",
    "for epoch in range(num_epochs):\n",
    "# 1 epoch => Network has seen all the images in the dataset\n",
    "\n",
    "    print(f'Epoch: {epoch}')\n",
    "\n",
    "    for batch_idx, (data, targets) in enumerate(train_loader):\n",
    "\n",
    "        data = data.to(device=device)\n",
    "        targets = targets.to(device=device)\n",
    "\n",
    "        data = data.reshape(data.shape[0], -1)  # Flatten\n",
    "        scores = model(data)\n",
    "        loss = criterion(scores, targets)\n",
    "\n",
    "        # backward\n",
    "        optimizer.zero_grad()  # set all gradients to zero for each batch\n",
    "        loss.backward()\n",
    "\n",
    "        # gradient descent\n",
    "        optimizer.step()"
   ]
  },
  {
   "cell_type": "markdown",
   "metadata": {},
   "source": [
    "Check that the model reaches the same accuracy as before (>95%)."
   ]
  },
  {
   "cell_type": "code",
   "execution_count": 16,
   "metadata": {},
   "outputs": [
    {
     "name": "stdout",
     "output_type": "stream",
     "text": [
      "Accuracy on training data:\n",
      "Got 58419/60000 with accuracy  97.36\n",
      "Accuracy on test data:\n",
      "Got 9631/10000 with accuracy  96.31\n"
     ]
    }
   ],
   "source": [
    "def check_accuracy(loader, model):\n",
    "    num_correct = 0\n",
    "    num_samples = 0\n",
    "    model.eval()\n",
    "\n",
    "    with torch.no_grad():  # dont compute gradients\n",
    "        for x, y in loader:\n",
    "            x = x.to(device=device)\n",
    "            y = y.to(device=device)\n",
    "            x = x.reshape(x.shape[0],-1)\n",
    "\n",
    "            scores = model(x)\n",
    "            _, predictions = scores.max(1)\n",
    "\n",
    "            # print(predictions)\n",
    "\n",
    "            num_correct += (predictions == y).sum()\n",
    "            num_samples += predictions.size(0)\n",
    "\n",
    "        print(f'Got {num_correct}/{num_samples} with accuracy {float(num_correct)/float(num_samples)*100: .2f}')\n",
    "\n",
    "    model.train()\n",
    "\n",
    "print('Accuracy on training data:')\n",
    "check_accuracy(train_loader, model)\n",
    "print('Accuracy on test data:')\n",
    "check_accuracy(test_loader, model)"
   ]
  },
  {
   "cell_type": "markdown",
   "metadata": {},
   "source": [
    "So far, so good! The model achieves the same performance as before, as expected. However, at the moment, the image classification task is a little bit unrealistic, as all digits are located exactly at the center of each image. \n",
    "\n",
    "Let us therefore repeat the training of the neural network on data where the digits are not centered in the image, just to see whether performance of the neural network is sensitive to the translation."
   ]
  },
  {
   "cell_type": "markdown",
   "metadata": {},
   "source": [
    "### Task 2: Execute the below cell to visualise padded versions of the digit images\n",
    "\n",
    "The below code pads images such that all digits are now located in the top right corner."
   ]
  },
  {
   "cell_type": "code",
   "execution_count": 17,
   "metadata": {},
   "outputs": [
    {
     "data": {
      "image/png": "[encoded data removed]",
      "text/plain": [
       "<Figure size 1650x900 with 4 Axes>"
      ]
     },
     "metadata": {},
     "output_type": "display_data"
    }
   ],
   "source": [
    "# Get a batch of images and labels\n",
    "images, labels = next(iter(train_loader))\n",
    "\n",
    "# Padd images\n",
    "n_batch, n_channels, n_width, n_height = images.shape\n",
    "padded = torch.zeros(size=(n_batch, n_channels, n_width*2, n_height*2))\n",
    "padded[:, :, :n_width, :n_height] = images\n",
    "\n",
    "# Visualise images\n",
    "# Create layout\n",
    "fontsize = 14\n",
    "my_dpi = 192\n",
    "fig = plt.figure(figsize=(2250 // my_dpi, 1200 // my_dpi), dpi=150)\n",
    "outer = gridspec.GridSpec(1, 4)\n",
    "\n",
    "# Create axes\n",
    "axes = []\n",
    "axes.append(plt.Subplot(fig, outer[0]))\n",
    "axes.append(plt.Subplot(fig, outer[1]))\n",
    "axes.append(plt.Subplot(fig, outer[2]))\n",
    "axes.append(plt.Subplot(fig, outer[3]))\n",
    "\n",
    "# Add axes to figure\n",
    "for ax in axes:\n",
    "    fig.add_subplot(ax)\n",
    "\n",
    "for ida, ax in enumerate(axes):\n",
    "    ax.imshow(padded[ida][0], cmap='gray')\n",
    "plt.show()"
   ]
  },
  {
   "cell_type": "markdown",
   "metadata": {},
   "source": [
    "### Task 3: Train the network on padded images\n",
    "The cell below pads the images in the train and test datasets. Copy the training script from above and use the padded images to train a new neural network. Make amendments to the code as required. In particular, remember to:\n",
    "1. multiply the input size by 4 because the images are now 4 times as big;\n",
    "2.  use the padded_train_loader for the training."
   ]
  },
  {
   "cell_type": "code",
   "execution_count": 18,
   "metadata": {},
   "outputs": [],
   "source": [
    "class PaddedDataLoader:\n",
    "    def __init__(self, dataloader, padding='top-left'):\n",
    "         self.dataloader = dataloader\n",
    "         self.padding = padding\n",
    "\n",
    "    def __iter__(self):\n",
    "        for images, labels in self.dataloader:\n",
    "            # Padd images\n",
    "            n_batch, n_channels, n_width, n_height = images.shape\n",
    "            padded = torch.zeros(size=(n_batch, n_channels, n_width*2, n_height*2))\n",
    "            if self.padding == 'top-left':\n",
    "                padded[:, :, :n_width, :n_height] = images\n",
    "            else:\n",
    "                padded[:, :, -n_width:, -n_height:] = images\n",
    "\n",
    "            yield padded, labels\n",
    "\n",
    "padded_train_loader = PaddedDataLoader(train_loader)\n",
    "padded_test_loader = PaddedDataLoader(test_loader, padding='other')"
   ]
  },
  {
   "cell_type": "code",
   "execution_count": 19,
   "metadata": {},
   "outputs": [
    {
     "name": "stdout",
     "output_type": "stream",
     "text": [
      "Epoch: 0\n",
      "Epoch: 1\n",
      "Epoch: 2\n",
      "Epoch: 3\n",
      "Epoch: 4\n"
     ]
    }
   ],
   "source": [
    "# TODO: Copy the relevant code from above and train the neural network again on the padded data.\n",
    "# (Remember to:\n",
    "#    1. multiply the input size by 4 because the images are now 4 times as big;\n",
    "#    2. use the padded_train_loader for the training.\n",
    "\n",
    "# Hyperparameters\n",
    "input_size = 784 * 4\n",
    "num_classes = 10\n",
    "learning_rate = 0.001\n",
    "num_epochs = 5\n",
    "\n",
    "# Initialize Network\n",
    "model = NN(input_size=input_size, num_classes=num_classes).to(device)\n",
    "\n",
    "# Loss and Optimizer\n",
    "criterion = nn.CrossEntropyLoss()\n",
    "optimizer = optim.Adam(model.parameters(), lr=learning_rate)\n",
    "\n",
    "# Train Network\n",
    "for epoch in range(num_epochs):\n",
    "    print(f'Epoch: {epoch}')\n",
    "\n",
    "    for batch_idx, (data, targets) in enumerate(padded_train_loader):\n",
    "\n",
    "        data = data.to(device=device)\n",
    "        targets = targets.to(device=device)\n",
    "\n",
    "        data = data.reshape(data.shape[0], -1)  # Flatten\n",
    "        scores = model(data)\n",
    "        loss = criterion(scores, targets)\n",
    "\n",
    "        optimizer.zero_grad()\n",
    "        loss.backward()\n",
    "        optimizer.step()"
   ]
  },
  {
   "cell_type": "markdown",
   "metadata": {},
   "source": [
    "Evaluate the trained model on the padded datasets. You should achieve a similar accuracy on the training data as before (>95%)."
   ]
  },
  {
   "cell_type": "code",
   "execution_count": 20,
   "metadata": {},
   "outputs": [
    {
     "name": "stdout",
     "output_type": "stream",
     "text": [
      "Accuracy on training data:\n",
      "Got 58444/60000 with accuracy  97.41\n",
      "Accuracy on test data:\n",
      "Got 947/10000 with accuracy  9.47\n"
     ]
    }
   ],
   "source": [
    "print('Accuracy on training data:')\n",
    "check_accuracy(padded_train_loader, model)\n",
    "print('Accuracy on test data:')\n",
    "check_accuracy(padded_test_loader, model)"
   ]
  },
  {
   "cell_type": "markdown",
   "metadata": {},
   "source": [
    "The accuracy on the test dataset is dramatically lower than before!\n",
    "\n",
    "### Task 4: Discuss in your group why the performance on the test dataset is so much lower now\n",
    "\n",
    "You might find it useful to visualise some images from the train dataset and some images from the test dataset using the code that we have used above."
   ]
  },
  {
   "cell_type": "code",
   "execution_count": 23,
   "metadata": {},
   "outputs": [
    {
     "data": {
      "image/png": "[encoded data removed]",
      "text/plain": [
       "<Figure size 1650x900 with 4 Axes>"
      ]
     },
     "metadata": {},
     "output_type": "display_data"
    }
   ],
   "source": [
    "# TODO: Plot a few training images\n",
    "# Get a batch of images and labels\n",
    "images, labels = next(iter(padded_train_loader))\n",
    "\n",
    "# Create layout\n",
    "fontsize = 14\n",
    "my_dpi = 192\n",
    "fig = plt.figure(figsize=(2250 // my_dpi, 1200 // my_dpi), dpi=150)\n",
    "outer = gridspec.GridSpec(1, 4)\n",
    "\n",
    "# Create axes\n",
    "axes = []\n",
    "axes.append(plt.Subplot(fig, outer[0]))\n",
    "axes.append(plt.Subplot(fig, outer[1]))\n",
    "axes.append(plt.Subplot(fig, outer[2]))\n",
    "axes.append(plt.Subplot(fig, outer[3]))\n",
    "\n",
    "# Add axes to figure\n",
    "for ax in axes:\n",
    "    fig.add_subplot(ax)\n",
    "\n",
    "for ida, ax in enumerate(axes):\n",
    "    ax.imshow(images[ida][0], cmap='gray')\n",
    "plt.show()"
   ]
  },
  {
   "cell_type": "code",
   "execution_count": 24,
   "metadata": {},
   "outputs": [
    {
     "data": {
      "image/png": "[encoded data removed]",
      "text/plain": [
       "<Figure size 1650x900 with 4 Axes>"
      ]
     },
     "metadata": {},
     "output_type": "display_data"
    }
   ],
   "source": [
    "# TODO: Plot a few test images\n",
    "# Get a batch of images and labels\n",
    "images, labels = next(iter(padded_test_loader))\n",
    "\n",
    "# Create layout\n",
    "fontsize = 14\n",
    "my_dpi = 192\n",
    "fig = plt.figure(figsize=(2250 // my_dpi, 1200 // my_dpi), dpi=150)\n",
    "outer = gridspec.GridSpec(1, 4)\n",
    "\n",
    "# Create axes\n",
    "axes = []\n",
    "axes.append(plt.Subplot(fig, outer[0]))\n",
    "axes.append(plt.Subplot(fig, outer[1]))\n",
    "axes.append(plt.Subplot(fig, outer[2]))\n",
    "axes.append(plt.Subplot(fig, outer[3]))\n",
    "\n",
    "# Add axes to figure\n",
    "for ax in axes:\n",
    "    fig.add_subplot(ax)\n",
    "\n",
    "for ida, ax in enumerate(axes):\n",
    "    ax.imshow(images[ida][0], cmap='gray')\n",
    "plt.show()"
   ]
  },
  {
   "cell_type": "markdown",
   "metadata": {},
   "source": [
    "Why does the network not work? exercise discussion.."
   ]
  },
  {
   "cell_type": "markdown",
   "metadata": {},
   "source": [
    "While neural can approximate any function, we only train their achieve these approximations only locally. This means that neural networks can only "
   ]
  },
  {
   "cell_type": "code",
   "execution_count": null,
   "metadata": {},
   "outputs": [],
   "source": []
  }
 ],
 "metadata": {
  "kernelspec": {
   "display_name": "venv",
   "language": "python",
   "name": "python3"
  },
  "language_info": {
   "codemirror_mode": {
    "name": "ipython",
    "version": 3
   },
   "file_extension": ".py",
   "mimetype": "text/x-python",
   "name": "python",
   "nbconvert_exporter": "python",
   "pygments_lexer": "ipython3",
   "version": "3.12.4"
  }
 },
 "nbformat": 4,
 "nbformat_minor": 2
}
