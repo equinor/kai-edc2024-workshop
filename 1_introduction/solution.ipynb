{
 "cells": [
  {
   "cell_type": "markdown",
   "metadata": {},
   "source": [
    "# Introduction\n",
    "\n",
    "In this notebook, we provide an intuitive introduction to the foundations of neural networks.\n",
    "\n",
    "**Take-aways:**\n",
    "By the end of this notebook, you will have seen:\n",
    "- how biological brains inspired the construction of artificial neural networks;\n",
    "- how multi-layer perceptrons (MLPs) provide the backbone of all modern neural networks;\n",
    "- and how MLPs can approximate any function (universal function approximation theorem)."
   ]
  },
  {
   "cell_type": "code",
   "execution_count": 5,
   "metadata": {},
   "outputs": [],
   "source": [
    "from labellines import labelLines\n",
    "import numpy as np\n",
    "import matplotlib.pyplot as plt\n",
    "import seaborn as sns\n",
    "sns.set_theme()"
   ]
  },
  {
   "cell_type": "markdown",
   "metadata": {},
   "source": [
    "# 1. The Perceptron\n",
    "\n",
    "Intuitively, one might expect artificial intelligence (AI) to arise when models of human brains are simulated on a computer. This intuition motivated the development of artificial neural networks, which now are the workhorse behind all modern AI models. In this notebook, we will retrace these early developments of artificial intelligence to better understand why language models, such as GPT3, process language the way they do.\n",
    "\n",
    "The smallest building block of brains are brain cells, also known as neurons. Neurons by themselves are not more intelligent than any other cells in our bodies. The main difference between neurons and other cells is that all approximately 100 billion of neurons in the human brain communicate and process information in a coordinated way, leading to the emergence of intelligence. A good start for artificial intelligence is therefore to first build a model of a neuron, and then make many of those neurons communicate in the hope to see artificial intelligence to emerge.\n",
    "\n",
    "In the figure below, we illustrate a human neuron in the left panel. The right panel shows a model of the neuron: an artificial neuron, commonly referred to as *perceptron*. The biological neuron consists of a junction of dendrites with the cell nucleus in the middle, and an axon leading away from the neuron. The one ability of neurons that is widely believed to make the emergence of intelligence possible is their ability to receive electrical signals through the dendrites and forward those signals to other neurons along their axons, when the strength of the electrical signals reaches a minimum threshold. The perceptron emulates this behaviour by receiving $n$ input signals $x_1, \\ldots, x_n$ which is processed into one output signal $y$.\n",
    "\n",
    "<img src=\"biological-neuron.jpg\" width=\"500\" style=\"display: block; margin: 0 auto\" >\n",
    "\n",
    "More specifically, one of the simplest perceptrons can be defined using a combination of the weighted sum of the input signals, and a step function that only returns a value of $1$ when the weighted sum is greater than zero \n",
    "\n",
    "$$\n",
    "y = f(x, w) = \\Theta (w_0\\, x_0 + \\ldots + w_n\\, x_n),\n",
    "$$\n",
    "where $\\Theta(z) = 1$ for $z>0$ and $\\Theta(y) = 0$, otherwise. $\\Theta(z)$ is referred to as the activation function of the perceptron."
   ]
  },
  {
   "cell_type": "markdown",
   "metadata": {},
   "source": [
    "### Task 1: Implement a simple artificial neuron\n",
    "\n",
    "To get comfortable with how perceptrons process information, implement the simple model described above by completing the code block below. When you are ready, use the following notebook cell to test your implementation."
   ]
  },
  {
   "cell_type": "code",
   "execution_count": 2,
   "metadata": {},
   "outputs": [],
   "source": [
    "def perceptron(x):\n",
    "    \"\"\"\n",
    "    Returns the output of a perceptron with 6 input signals.\n",
    "\n",
    "    Parameters:\n",
    "        x (List of length 6) Input signals to the perceptron.\n",
    "    \"\"\"\n",
    "    weights = [0.2, -0.3, 0.9, 0.4, -0.9, -0.5]\n",
    "\n",
    "    # TODO: Calculate y\n",
    "    z = np.sum(np.array(weights) * np.array(x))\n",
    "\n",
    "    # Calculate activation\n",
    "    if z > 0:\n",
    "        return 1\n",
    "\n",
    "    return 0"
   ]
  },
  {
   "cell_type": "markdown",
   "metadata": {},
   "source": [
    "<span style=\"color: red;\">TOOD:</span> Can you please implement some tests / solutions where the function is checked against the correct outputs? Last time I did this for example by pre-implementing the correct solution in a module, see In [6] in https://github.com/equinor/edc2023-optimising-wind-farms/blob/main/03_wind_farm_model/solution.ipynb."
   ]
  },
  {
   "cell_type": "code",
   "execution_count": null,
   "metadata": {},
   "outputs": [],
   "source": [
    "# Solution"
   ]
  },
  {
   "cell_type": "markdown",
   "metadata": {},
   "source": [
    "## 2 From perceptrons to multilayer perceptrons (MLPs)\n",
    "\n",
    "Without activation functions, single perceptrons are mathematically equivalent to linear regression models that have been in machine for a loooong time\n",
    "\n",
    "$$\n",
    "    z = \\sum _{j=1}^n w_j x_j.\n",
    "$$\n",
    "\n",
    "For just two inputs, this makes it possible to visualise the outputs of perceptrons for different input values using straight lines in a plane, see below. Note that it is convential to consider $x_0$ to be fixed to one, $x_0=1$. This makes translations of the lines in the plane possible. The corresponding weight, $w_0$, is commonly referred to as the bias of the perceptron. \n",
    "\n",
    "<img src=\"linear_classifier.png\" width=\"500\" style=\"display: block; margin: 0 auto\">"
   ]
  },
  {
   "cell_type": "markdown",
   "metadata": {},
   "source": [
    "The interpretation of perceptrons as binary linear regressors, i.e. linear classifiers, makes intuitively how artificial neural networks process information on the smallest level. But one perceptron alone is limited in what it can do and certainly does not achieve artificial \"intelligence\".\n",
    "\n",
    "To visualise the limitations of a single perceptron, we attempt a simple 2-dimensional classification task using the perceptron."
   ]
  },
  {
   "cell_type": "code",
   "execution_count": 4,
   "metadata": {},
   "outputs": [
    {
     "data": {
      "image/png": "[encoded data removed]",
      "text/plain": [
       "<Figure size 640x480 with 1 Axes>"
      ]
     },
     "metadata": {},
     "output_type": "display_data"
    }
   ],
   "source": [
    "# Generate random data\n",
    "np.random.seed(0)\n",
    "n_samples = 50\n",
    "X = np.random.randn(n_samples, 2)\n",
    "y = np.zeros(n_samples)\n",
    "y[np.linalg.norm(X, axis=1) > 1] = 1\n",
    "\n",
    "# Plot the data\n",
    "plt.scatter(X[y==0, 0], X[y==0, 1], label='Class 1')\n",
    "plt.scatter(X[y==1, 0], X[y==1, 1], label='Class 2')\n",
    "\n",
    "plt.xlim(-3, 3)\n",
    "plt.ylim(-6, 6)\n",
    "plt.legend()\n",
    "plt.show()"
   ]
  },
  {
   "cell_type": "markdown",
   "metadata": {},
   "source": [
    "It is clear that we will not be able to use just a single line to separate the blue dots from the orange dots. But, we could, perhaps, use 4 perceptrons to classify the data..."
   ]
  },
  {
   "cell_type": "markdown",
   "metadata": {},
   "source": [
    "### Task 2: Find 4 perceptrons that can jointly classify the data points\n",
    "For example, you could decide that a data point is classified as \"blue\" if all perceptrons return a 1. Otherwise the data point is classified as orange."
   ]
  },
  {
   "cell_type": "code",
   "execution_count": 34,
   "metadata": {},
   "outputs": [],
   "source": [
    "# TODO\n",
    "perceptron1 = {\n",
    "    'bias': -2,\n",
    "    'weight1': 2,\n",
    "    'weight2': 1\n",
    "}\n",
    "perceptron2 = {\n",
    "    'bias': -2,\n",
    "    'weight1': -1,\n",
    "    'weight2': 2\n",
    "}\n",
    "perceptron3 = {\n",
    "    'bias': 2,\n",
    "    'weight1': 2,\n",
    "    'weight2': 1\n",
    "}\n",
    "perceptron4 = {\n",
    "    'bias': -3,\n",
    "    'weight1': 2,\n",
    "    'weight2': -2\n",
    "}"
   ]
  },
  {
   "cell_type": "code",
   "execution_count": 35,
   "metadata": {},
   "outputs": [
    {
     "data": {
      "image/png": "[encoded data removed]",
      "text/plain": [
       "<Figure size 640x480 with 1 Axes>"
      ]
     },
     "metadata": {},
     "output_type": "display_data"
    }
   ],
   "source": [
    "# Plot the data\n",
    "plt.scatter(X[y==0, 0], X[y==0, 1])\n",
    "plt.scatter(X[y==1, 0], X[y==1, 1])\n",
    "\n",
    "# linear classifications\n",
    "x1 = np.linspace(-3, 3, 100)\n",
    "x2 = -(perceptron1['weight1'] * x1 + perceptron1['bias']) / perceptron1['weight2']\n",
    "plt.plot(x1, x2, linestyle='-', color='red')\n",
    "\n",
    "x2 = -(perceptron2['weight1'] * x1 + perceptron2['bias']) / perceptron2['weight2']\n",
    "plt.plot(x1, x2, linestyle='-', color='orange')\n",
    "\n",
    "x2 = -perceptron3['weight1'] / perceptron3['weight2'] * x1 - perceptron3['bias'] / perceptron3['weight2']\n",
    "plt.plot(x1, x2, linestyle='-', color='lightblue')\n",
    "\n",
    "x2 = -perceptron4['weight1'] / perceptron4['weight2'] * x1 - perceptron4['bias'] / perceptron4['weight2']\n",
    "plt.plot(x1, x2, linestyle='-', color='darkcyan')\n",
    "\n",
    "plt.xlim(-3, 3)\n",
    "plt.ylim(-6, 6)\n",
    "plt.show()"
   ]
  },
  {
   "cell_type": "markdown",
   "metadata": {},
   "source": [
    "Here if you get an output of 1 from each of these linear classifiers only if the point lies inside the region. If all the perceptrons produce a 1, the output nepceptron and weights will be set can be set such that it produces an output of 1 only in the case when all the inputs to it are 1.\n",
    "\n",
    "While this is shown in 2D space, it generalises in any number of dimensions.\n",
    "\n",
    "<img src=\"complex_classifier_perceptron_diagram.png\" width=\"1000\" style=\"display: block; margin: 0 auto\">"
   ]
  },
  {
   "cell_type": "markdown",
   "metadata": {},
   "source": [
    "A multi-layer perceptron network has the same general structure:\n",
    "\n",
    "<img src=\"multi_layer_perceptron_network.avif\" width=\"700\" style=\"display: block; margin: 0 auto\">\n",
    "\n",
    "The above diagram is also known as a **fully-connected network** because every neuron is connected to every other neuron. This does not have to be the case, which we will demonstrate later.\n",
    "\n",
    "*TODO: change the image to label w_11 etc*"
   ]
  },
  {
   "cell_type": "markdown",
   "metadata": {},
   "source": [
    "# 3. Activation Function\n",
    "\n",
    "## 3.1 Step Function\n",
    "\n",
    "The activation function is the function that takes you from the input to the output. For a Perceptron, it is the step function."
   ]
  },
  {
   "cell_type": "code",
   "execution_count": 4,
   "metadata": {},
   "outputs": [
    {
     "data": {
      "image/png": "[encoded data removed]",
      "text/plain": [
       "<Figure size 640x480 with 1 Axes>"
      ]
     },
     "metadata": {},
     "output_type": "display_data"
    }
   ],
   "source": [
    "import matplotlib.pyplot as plt\n",
    "\n",
    "x = [-1, 0, 1]\n",
    "y = [0, 0, 1]\n",
    "\n",
    "fig, ax = plt.subplots()\n",
    "ax.step(x, y, color='red', linewidth=3)\n",
    "\n",
    "# Move the y-axis ticks to the center\n",
    "ax.spines['left'].set_position('center')\n"
   ]
  },
  {
   "cell_type": "markdown",
   "metadata": {},
   "source": [
    "So far, we have assumed we live in the perfect world where we know all the weights and biases. In reality, we need to find them. \n",
    "\n",
    "This is done by randomly assigning weights and biases.\n",
    "Why?\n",
    "Because we don't know where else to start.\n",
    "Then we run the network on each training example, compare the output and the desired output, and adjust the weights to minimise the error.\n",
    "\n",
    "We want to find the weights and biases of the entire network, i.e. the **parameters of the network**. \n",
    "Starting from a random value, we we need to see what the impact of changing a particular parameter is (e.g. $w_{1,1}).\n",
    "We want a small change in a parameter to lead to a small change in the activation towards the desired activation.\n",
    "\n",
    "This is where we encounter our first problem with perceptrons: their activation function is a step function.\n",
    "\n",
    "*TODO: insert diagram with 2 inputs to 1 perceptron, labelled w1, w2, etc*\n"
   ]
  },
  {
   "cell_type": "code",
   "execution_count": 5,
   "metadata": {},
   "outputs": [
    {
     "data": {
      "application/vnd.jupyter.widget-view+json": {
       "model_id": "2eacc14dfb514e80a65b40a4166f262d",
       "version_major": 2,
       "version_minor": 0
      },
      "text/plain": [
       "interactive(children=(FloatSlider(value=0.0, description='delta_z', max=0.5, min=-0.15, step=0.01), Output()),…"
      ]
     },
     "metadata": {},
     "output_type": "display_data"
    },
    {
     "data": {
      "text/plain": [
       "<function __main__.plot_sine(delta_z)>"
      ]
     },
     "execution_count": 5,
     "metadata": {},
     "output_type": "execute_result"
    }
   ],
   "source": [
    "import numpy as np\n",
    "import matplotlib.pyplot as plt\n",
    "from ipywidgets import interact, FloatSlider\n",
    "\n",
    "def step_function(x):\n",
    "    return np.where(x > 0, 1, 0)\n",
    "\n",
    "# Define the function to plot\n",
    "def plot_sine(delta_z):\n",
    "\n",
    "    # plot step function\n",
    "    x = [-0.55, 0, 0.45]\n",
    "    y = [0, 0, 1]\n",
    "    plt.step(x, y, color='black', linewidth=3)\n",
    "\n",
    "    # plot the starting point\n",
    "    z0 = -0.05\n",
    "    z = z0 + delta_z\n",
    "    plt.plot(z0, step_function(z0), 'ro', markerfacecolor='none')\n",
    "    plt.text(z0, step_function(z0) - 0.2, rf'$z_0 = {z0}$', fontsize=12, ha='center')\n",
    "\n",
    "    # plot the moving point\n",
    "    plt.plot(z, step_function(z), 'ro')\n",
    "    plt.text(z, step_function(z) + 0.2, rf'$z = z_0 + \\Delta z = {z:.2f}$', fontsize=12, ha='right')\n",
    "\n",
    "    plt.ylim(-1, 2)\n",
    "    plt.xlabel(r'$z = \\mathbf{w \\cdot x} + b$')\n",
    "    plt.ylabel(r'$a = f(z)$')\n",
    "    plt.title(rf'Impact of changing $z$ on activation')\n",
    "    plt.show()\n",
    "\n",
    "# Create the slider\n",
    "slider = FloatSlider(min=-0.15, max=0.5, step=0.01, value=0)\n",
    "\n",
    "# Create the interactive plot\n",
    "interact(plot_sine, delta_z=slider)"
   ]
  },
  {
   "cell_type": "markdown",
   "metadata": {},
   "source": [
    "Say we change $w_1$ by $\\Delta w_1$, which will change $z$, which will impact $a = f(z)$. \n",
    "If we move the slider to the left, $z$ changes (red dot moves left), but the activation $a$ does not change: it was 0 before, but because $z < 0$, it remains unchanged at 0.\n",
    "If we move the slider slightly to the right, $a$ does not change either.\n",
    "We changed $w_1$ (and therefore $z$) in both ways and learned nothing about the impact of $w_1$.\n",
    "\n",
    "If you move the slider further to the right, all of a sudden $z > 0$ and $a = 1$.\n",
    "\n",
    "With the step function as the activation function, it's difficult to figure out how to adjust the weights and biases to get the desired activation/output.\n",
    "There is a lack of change or the sudden change in the output with a small change in the parameters.\n",
    "This is even more the case with a network of perceptrons.\n",
    "\n",
    "Since the step function is difficult to work with, we want to work with smoother functions, like the sigmoid function."
   ]
  },
  {
   "cell_type": "markdown",
   "metadata": {},
   "source": [
    "## 3.2 Sigmoid Function"
   ]
  },
  {
   "cell_type": "code",
   "execution_count": 6,
   "metadata": {},
   "outputs": [
    {
     "data": {
      "application/vnd.jupyter.widget-view+json": {
       "model_id": "6197f873e32d4bc5a97a381069840c88",
       "version_major": 2,
       "version_minor": 0
      },
      "text/plain": [
       "interactive(children=(FloatSlider(value=0.0, description='delta_z', max=15.0, min=-7.0), Output()), _dom_class…"
      ]
     },
     "metadata": {},
     "output_type": "display_data"
    },
    {
     "data": {
      "text/plain": [
       "<function __main__.plot_sine(delta_z)>"
      ]
     },
     "execution_count": 6,
     "metadata": {},
     "output_type": "execute_result"
    }
   ],
   "source": [
    "import numpy as np\n",
    "import matplotlib.pyplot as plt\n",
    "from ipywidgets import interact, FloatSlider\n",
    "\n",
    "def sigmoid(x):\n",
    "    return 1 / (1 + np.exp(-x))\n",
    "\n",
    "# Define the function to plot\n",
    "def plot_sine(delta_z):\n",
    "\n",
    "    # plot step function\n",
    "    x = np.linspace(-20, 20, 100)\n",
    "    y = sigmoid(x)\n",
    "\n",
    "    fig, ax = plt.subplots()\n",
    "    ax.plot(x, y, color='black', linewidth=3)\n",
    "\n",
    "    # Move the y-axis ticks to the center\n",
    "    ax.spines['left'].set_position('center')\n",
    "\n",
    "    # plot the starting point\n",
    "    z0 = -0.05\n",
    "    z = z0 + delta_z\n",
    "    ax.plot(z0, sigmoid(z0), 'ro', markerfacecolor='none')\n",
    "    ax.text(z0, sigmoid(z0) - 0.2, rf'$z_0 = {z0}$', fontsize=12, ha='center')\n",
    "\n",
    "    # plot the moving point\n",
    "    ax.plot(z, sigmoid(z), 'ro')\n",
    "    ax.text(z, sigmoid(z) + 0.2, rf'$z = z_0 + \\Delta z = {z:.2f}$', fontsize=12, ha='right')\n",
    "\n",
    "    ax.set_ylim([-0.5, 1.5])\n",
    "    # ax.set_xlim([0, 12])\n",
    "    # ax.ylim(-1, 2)\n",
    "    # ax.xlabel(r'$z = \\mathbf{w \\cdot x} + b$')\n",
    "    # ax.ylabel(r'$a = f(z)$')\n",
    "    ax.set_title(rf'Impact of changing $z$ on activation')\n",
    "    plt.show()\n",
    "\n",
    "# Create the slider\n",
    "slider = FloatSlider(min=-7, max=15, step=0.1, value=0)\n",
    "\n",
    "# Create the interactive plot\n",
    "interact(plot_sine, delta_z=slider)"
   ]
  },
  {
   "cell_type": "markdown",
   "metadata": {},
   "source": [
    "The sigmoid neuron is almost exactly the same as a perceptron, but the activation function is the sigma function $\\sigma$.\n",
    "\n",
    "$$\n",
    "a = \\sigma (z) = \\frac{1}{1 + e^{-z}}\n",
    "$$\n",
    "\n",
    "Sigma looks like a \"blurred\" or smoother version of the step function. \n",
    "Its behaviour is muh more benign and predictable: when you change $w_1$, you have a measurable change in the output $a$.\n",
    "The output transitions more smoothly with respect to changes in parameters (weights and biases).\n",
    "\n",
    "The sigma function is one of many different types of smooth activation functions used in neural networks. Other examples include:\n",
    "\n",
    "$$\n",
    "\\tanh(x) = \\frac{e^{x} - e^{-x}}{e^{x} + e^{-x}}\n",
    "$$\n",
    "$$\n",
    "\\frac{d}{dx}\\tanh(x) = 1 - \\tanh^2(x)\n",
    "$$\n",
    "$$\n",
    "\\text{Swish}(x) = x \\cdot \\frac{1}{1 + e^{-\\beta x}}\n",
    "$$\n",
    "$$\n",
    "\\text{ELU}(x) = \\begin{cases} x, & \\text{if } x > 0 \\\\ \\alpha (e^x - 1), & \\text{otherwise} \\end{cases}\n",
    "$$"
   ]
  },
  {
   "cell_type": "markdown",
   "metadata": {},
   "source": [
    "# 4. Neural Network\n",
    "\n",
    "Now we have a neural network that uses the sigmoid activation function.\n",
    "What shall we do with all this power?\n",
    "\n",
    "## 4.1 MNIST Handwritten Digit Recognition\n",
    "\n",
    "This is a classic problem for neural networks. "
   ]
  },
  {
   "cell_type": "code",
   "execution_count": 7,
   "metadata": {},
   "outputs": [
    {
     "data": {
      "image/png": "[encoded data removed]",
      "text/plain": [
       "<Figure size 640x480 with 9 Axes>"
      ]
     },
     "metadata": {},
     "output_type": "display_data"
    }
   ],
   "source": [
    "# Plot of images as baseline for comparison\n",
    "from keras.datasets import mnist\n",
    "from matplotlib import pyplot\n",
    "# load data\n",
    "(X_train, y_train), (X_test, y_test) = mnist.load_data()\n",
    "# create a grid of 3x3 images\n",
    "for i in range(0, 9):\n",
    "    pyplot.subplot(330 + 1 + i)\n",
    "    pyplot.imshow(X_train[i], cmap=pyplot.get_cmap('gray'))\n",
    "# show the plot\n",
    "pyplot.show()"
   ]
  },
  {
   "cell_type": "code",
   "execution_count": 8,
   "metadata": {},
   "outputs": [
    {
     "data": {
      "text/plain": [
       "<matplotlib.image.AxesImage at 0x317fbeb30>"
      ]
     },
     "execution_count": 8,
     "metadata": {},
     "output_type": "execute_result"
    },
    {
     "data": {
      "image/png": "[encoded data removed]",
      "text/plain": [
       "<Figure size 640x480 with 1 Axes>"
      ]
     },
     "metadata": {},
     "output_type": "display_data"
    }
   ],
   "source": [
    "pyplot.imshow(X_train[0], cmap=pyplot.get_cmap('gray'))"
   ]
  },
  {
   "cell_type": "markdown",
   "metadata": {},
   "source": [
    "Each digit has been binarised and rescaled into an image roughly 20x20 pixels, which is centred in a larger image of 28x28 pixels.\n",
    "\n",
    "We want to develop a neural network where it takes one of these images as input. The idea is to have the neural network have a high activation/output for the digit that it thinks the input corresponds to, and a low output for all the other digits.\n",
    "\n",
    "<img src=\"mnist_digit_recognition_network.png\" width=\"500\" style=\"display: block; margin: 0 auto; background-color: white\">\n",
    "\n",
    "In Section 3, we introduced the idea of finding the parameters of the network by starting with a random set and adjusting them to get to the desired activation.\n",
    "How do we change the weights and biases in such a way that our activations/outputs end up approaching the desired activations? \n",
    "This is the process of training.\n",
    "\n",
    "The key to any network is lots of training data - the more the better.\n",
    "The training data in this case is pairs out inputs and outputs, labels by users/experts, which are converted to the desired activation.\n",
    "\n",
    "<img src=\"inputs_labels_activations.png\" width=\"500\" style=\"display: block; margin: 0 auto\">\n",
    "\n",
    "1. Initialise the weights and biases of network with random values.\n",
    "2. Compute network activation (output) for each training image.\n",
    "This is just a feed forward process: for each image, run it through the network and get an activation and the output.\n",
    "3. Compute the cost for the entire training data.\n",
    "By doing this you get an activation for each training image, not the desired activation. We see the activation that this particular instance of the network is going to give you.\n",
    "Using all these activations, you can compute the cost for the entire training data.\n",
    "The weaker the performance of the network, the larger the cost.\n",
    "Lower the cost, better the classification.\n",
    "We're looking for the ws and bs that give us the minimum cost. We lower the cost, the classification improves and the performance of the network improves.\n",
    "\n",
    "$$\n",
    "C_x(\\bold{w}, \\bold{b}) = \\Vert \\hat{\\underbar{a}}(\\underbar{x}) - \\underbar{a}(\\underbar{x} | \\underbar{w}, \\underbar{b}) \\Vert ^2\n",
    "$$\n",
    "\n",
    "$$\n",
    "C(\\bold{w}, \\bold{b}) = \\frac{1}{n} \\sum_{x}C_x(\\underbar{w}, \\underbar{b})\n",
    "$$\n",
    "\n",
    "We average the cost because we don't want the cost to be a function of the number of images in the training data.\n",
    "\n",
    "4. Update weights and biases using Gradient Descent.\n",
    "Using the cost, we can adjust the weights and biases of the network using a method called Gradient Descent.\n",
    "5. Repeat steps 2-4 until the cost reduces to an acceptable network, then you freeze the network.\n",
    "\n",
    "<img src=\"training_process.png\" width=\"1000\" style=\"display: block; margin: 0 auto\">"
   ]
  },
  {
   "cell_type": "markdown",
   "metadata": {},
   "source": [
    "# 5. *Bonus:* Gradient Descent and the Backpropagation Algorithm\n",
    "\n",
    "Step 4 of the training process described above uses Gradient Descent to move the parameters of the network such that the error decreases as training progresses.\n",
    "\n",
    "If we knew the cost for all possible values of weights and biases, we would end up with a function like this:\n",
    "\n",
    "<img src=\"gradient_descent.png\" width=\"500\" style=\"display: block; margin: 0 auto\">\n",
    "\n",
    "Then it would be easy to choose the best parameter values.\n",
    "Since we don't live in this world, we have to use calculus to determine how to adjust the weights."
   ]
  }
 ],
 "metadata": {
  "kernelspec": {
   "display_name": "edc2024",
   "language": "python",
   "name": "python3"
  },
  "language_info": {
   "codemirror_mode": {
    "name": "ipython",
    "version": 3
   },
   "file_extension": ".py",
   "mimetype": "text/x-python",
   "name": "python",
   "nbconvert_exporter": "python",
   "pygments_lexer": "ipython3",
   "version": "3.12.4"
  }
 },
 "nbformat": 4,
 "nbformat_minor": 2
}
