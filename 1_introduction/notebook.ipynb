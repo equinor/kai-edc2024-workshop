{
 "cells": [
  {
   "cell_type": "markdown",
   "metadata": {},
   "source": [
    "# Introduction\n",
    "\n",
    "In this notebook, we cover the foundations of neural networks.\n",
    "\n",
    "We start by talking about **biological neurons** and how they inspired a very simple type of neuron: **the Perceptron**. We will show that a Perceptron is really a linear classifier.\n",
    "\n",
    "If you create a **Perceptron Network**, you end up with a more complex linear classifier.\n",
    "\n",
    "Linear classifiers are very useful, but can't solve all problems. To modify a perceptron to make it even more powerful, we look at the **Activation Function**. The activation function takes you from the input to the output. In the case of a perceptron, it's a simple step function. If you change this activation slightly to make it a continuous function, it has very attractive mathematical properties.\n",
    "\n",
    "In particular, we talk about the sigmoid activation function. This allows us to create a **Sigmoid Neuron**, which we can put together to create a neural network. We will discuss the **Neural Network Architecture** and the key challenges of training them.\n",
    "\n",
    "A reasonably sized NN could have millions of parameters. Given training data, one of the goals is to find the parameters of NN that are going to perform the mapping of input to output with a high level of reliability and accurancy. For that, we use a technique called **Gradient Descent**. In practice, gradient descent is performed using **Backpropagation**. Backpropagation is a technique based on the Chain Rule for Derivatives (and is something we will only briefly mention, providing further resources for the mathematicians amongst us)."
   ]
  },
  {
   "cell_type": "markdown",
   "metadata": {},
   "source": [
    "# 1. Perceptron\n",
    "\n",
    "A Perceptron takes several inputs and gives a single binary output:\n",
    "\n",
    "<img src=\"perceptron_inputs_outputs.png\" width=\"500\" style=\"display: block; margin: 0 auto\" />\n",
    "\n",
    "$$\n",
    "f = \\begin{cases}\n",
    "   0 &\\text{if } \\sum_{\\substack{j}}w_{j}x_{j} \\leq -b \\\\\n",
    "   1 &\\text{if } \\sum_{\\substack{j}}w_{j}x_{j} \\gt -b\n",
    "\\end{cases}\n",
    "= \\begin{cases}\n",
    "   0 &\\text{if } \\bold{w.b} + b \\leq 0 \\\\\n",
    "   1 &\\text{if } \\bold{w.b} + b \\gt 0\n",
    "\\end{cases}\n",
    "$$\n",
    "\n",
    "where $w_{j} = \\text{weights and } b = \\text{bias}$.\n",
    "\n",
    "The output of a neuron is also referred to as its **activation**. If we let $z = \\bold{w.x} + b$, we can rewrite the above as:\n",
    "$$\n",
    "a = f(z) = \\begin{cases}\n",
    "   0 &\\text{if } z \\leq 0 \\\\\n",
    "   1 &\\text{if } z \\gt 0\n",
    "\\end{cases}\n",
    "$$\n",
    "$f$ is a **step function**, and is called the **activation function** of this neuron."
   ]
  },
  {
   "cell_type": "markdown",
   "metadata": {},
   "source": [
    "## 1.1 Example\n",
    "\n",
    "Suppose I want to answer the question: *\"Will Liza go to Emma's party?\"*\n",
    "<img src=\"emmas_party.png\" width=\"500\" style=\"display: block; margin: 0 auto\">\n",
    "\n",
    "If Hannah goes, Liza really doesn't want to go.\n",
    "But if Kristine goes, Liza would quite like to go, i.e. $w_1 = -3$, $w_2 = 2$.\n",
    "And if neither of them go, Liza would like to stay home, i.e. $b = -1$.\n",
    "\n",
    "So if both Hannah and Kristine are going, Liza isn't:\n",
    "<img src=\"emmas_party_2.png\" width=\"500\" style=\"display: block; margin: 0 auto\">\n",
    "\n",
    "$\n",
    "z = x_{1}w_{1} + x_{2}w_{2} + b = 1(-3) + 1(2) - 1 = -2\n",
    "a = f(z) = 0\n",
    "$"
   ]
  },
  {
   "cell_type": "markdown",
   "metadata": {},
   "source": [
    "## 1.2 Perceptron as a Linear Classifier\n",
    "\n",
    "Graphing the above example, we see that a Perceptron is simply a linear classifier.\n",
    "\n",
    "<img src=\"linear_classifier.png\" width=\"500\" style=\"display: block; margin: 0 auto\">"
   ]
  },
  {
   "cell_type": "markdown",
   "metadata": {},
   "source": [
    "## 1.3 Perceptron in Code\n",
    "\n",
    "TODO: explain what below code is doing?"
   ]
  },
  {
   "cell_type": "code",
   "execution_count": null,
   "metadata": {},
   "outputs": [],
   "source": [
    "import numpy as np\n",
    "\n",
    "\n",
    "class Perceptron(object):\n",
    "    \"\"\"Perceptron classifier.\n",
    "\n",
    "    Parameters\n",
    "    ------------\n",
    "    eta : float\n",
    "        Learning rate (between 0.0 and 1.0)\n",
    "    n_iter : int\n",
    "        Passes over the training dataset.\n",
    "\n",
    "    Attributes\n",
    "    -----------\n",
    "    w_ : 1d-array\n",
    "        Weights after fitting.\n",
    "    errors_ : list\n",
    "        Number of misclassifications (updates) in each epoch.\n",
    "\n",
    "    \"\"\"\n",
    "\n",
    "    def __init__(self, eta=0.01, n_iter=10):\n",
    "        self.eta = eta\n",
    "        self.n_iter = n_iter\n",
    "\n",
    "    # Train the perceptron\n",
    "    def fit(self, X, y):\n",
    "        \"\"\"Fits training data.\n",
    "        This function take the input of features,\n",
    "        make predictions, update the weights n_iter times.\n",
    "\n",
    "        Parameters\n",
    "        ----------\n",
    "        X : {array-like}, shape = [n_samples, n_features]\n",
    "            Training vectors, where n_samples is the number of samples and\n",
    "            n_features is the number of features.\n",
    "        y : array-like, shape = [n_samples]\n",
    "            Target values.\n",
    "\n",
    "        Returns\n",
    "        -------\n",
    "        self : object\n",
    "\n",
    "        \"\"\"\n",
    "\n",
    "        # initializing the weights\n",
    "        self.w_ = np.zeros(1 + X.shape[1])\n",
    "        self.errors_ = []\n",
    "\n",
    "        # print(\"Weights:\", self.w_)\n",
    "\n",
    "        for _ in range(self.n_iter):\n",
    "            error = 0\n",
    "            for xi, target in zip(X, y):\n",
    "\n",
    "                # 1. calculate y^\n",
    "                y_pred = self.predict(xi)\n",
    "\n",
    "                # 2. calculate Update\n",
    "                # update = η * (y - y^)\n",
    "                update = self.eta * (target - y_pred)\n",
    "\n",
    "                # 3. Update the weights\n",
    "                # Wi = Wi + Δ(Wi)       where  Δ(Wi) = update * Xi\n",
    "                self.w_[1:] = self.w_[1:] + update * xi\n",
    "                # print(self.w_[1:])\n",
    "\n",
    "                # Xo = 1 => update * 1 = update\n",
    "                self.w_[0] = self.w_[0] + update\n",
    "\n",
    "                # update != 0  ==>  y^ != y  ==>  there is an error\n",
    "                error += int(update != 0.0)\n",
    "\n",
    "            self.errors_.append(error)\n",
    "\n",
    "        return self\n",
    "\n",
    "    # Weighted Sum\n",
    "    def net_input(self, X):\n",
    "        \"\"\"\n",
    "        The net_input() function returns the dot product\n",
    "        i.e. the weighted sum: sum of w*x\n",
    "        :param: X: an array of features (inputs)\n",
    "        Returns:\n",
    "            the dot product of W and X\n",
    "        \"\"\"\n",
    "        # Z = sum (Wi * Xi) where Wo = 0 et Xo = 1\n",
    "        return np.dot(X, self.w_[1:]) + self.w_[0]\n",
    "\n",
    "    # Step Function\n",
    "    def predict(self, X):\n",
    "        \"\"\"\n",
    "        The activation function.\n",
    "        Returns the predicted value\n",
    "        :param X: an array of features\n",
    "        :return:\n",
    "            y_pred - the predicted value:\n",
    "                0 if the weighted sum < 0\n",
    "                1 otherwise\n",
    "        \"\"\"\n",
    "        return np.where(self.net_input(X) >= 0.0, 1, -1)"
   ]
  },
  {
   "cell_type": "markdown",
   "metadata": {},
   "source": [
    "# 2. Perceptron Network\n",
    "\n",
    "Some regions are impossible to classify with just one Perceptron, for example the figure below."
   ]
  },
  {
   "cell_type": "code",
   "execution_count": 27,
   "metadata": {},
   "outputs": [
    {
     "data": {
      "image/png": "[encoded data removed]",
      "text/plain": [
       "<Figure size 640x480 with 1 Axes>"
      ]
     },
     "metadata": {},
     "output_type": "display_data"
    }
   ],
   "source": [
    "import numpy as np\n",
    "import matplotlib.pyplot as plt\n",
    "\n",
    "# Generate random data\n",
    "np.random.seed(0)\n",
    "n_samples = 50\n",
    "X = np.random.randn(n_samples, 2)\n",
    "y = np.zeros(n_samples)\n",
    "y[np.linalg.norm(X, axis=1) > 1] = 1\n",
    "\n",
    "# Plot the data\n",
    "plt.scatter(X[y==0, 0], X[y==0, 1], color='black')\n",
    "plt.scatter(X[y==1, 0], X[y==1, 1], color='blue')\n",
    "\n",
    "plt.xlim(-3, 3)\n",
    "plt.ylim(-6, 6)\n",
    "plt.savefig('complex_region.png')\n",
    "plt.show()"
   ]
  },
  {
   "cell_type": "markdown",
   "metadata": {},
   "source": [
    "In this scenario, we could use 4 linear classifiers "
   ]
  },
  {
   "cell_type": "code",
   "execution_count": 28,
   "metadata": {},
   "outputs": [
    {
     "data": {
      "image/png": "[encoded data removed]",
      "text/plain": [
       "<Figure size 640x480 with 1 Axes>"
      ]
     },
     "metadata": {},
     "output_type": "display_data"
    }
   ],
   "source": [
    "from labellines import labelLines\n",
    "\n",
    "# Plot the data\n",
    "plt.scatter(X[y==0, 0], X[y==0, 1], color='black')\n",
    "plt.scatter(X[y==1, 0], X[y==1, 1], color='blue')\n",
    "\n",
    "# linear classifications\n",
    "t = np.linspace(-3, 3, 100)\n",
    "plt.plot(t, -2*t+2, linestyle='-', color='red', label='2x1+x2-2=0') # 2x1 + x2 - 2 = 0\n",
    "plt.plot(t, 0.5*t+1, linestyle='-', color='orange', label='-x1+2x2-1=0') # - x1 + 2x2 - 1 = 0\n",
    "plt.plot(t, -2*t-2, linestyle='-', color='lightblue', label='2x1+x2+2=0') # 2x1 + x2 + 2 = 0\n",
    "plt.plot(t, 1*t-1.5, linestyle='-', color='darkcyan', label='-2x1+2x2+3=0') # - 2x1 + 2x2 + 3 = 0\n",
    "\n",
    "labelLines(plt.gca().get_lines(), align=True, xvals=[-1, -2, 1, 1])\n",
    "\n",
    "plt.xlim(-3, 3)\n",
    "plt.ylim(-6, 6)\n",
    "plt.savefig('complex_region_classifier.png')\n",
    "plt.show()"
   ]
  },
  {
   "cell_type": "markdown",
   "metadata": {},
   "source": [
    "Here if you get an output of 1 from each of these linear classifiers only if the point lies inside the region. If all the perceptrons produce a 1, the output nepceptron and weights will be set can be set such that it produces an output of 1 only in the case when all the inputs to it are 1.\n",
    "\n",
    "While this is shown in 2D space, it generalises in any number of dimensions.\n",
    "\n",
    "<img src=\"complex_classifier_perceptron_diagram.png\" width=\"1000\" style=\"display: block; margin: 0 auto\">"
   ]
  },
  {
   "cell_type": "markdown",
   "metadata": {},
   "source": [
    "A multi-layer perceptron network has the same general structure:\n",
    "\n",
    "<img src=\"multi_layer_perceptron_network.avif\" width=\"700\" style=\"display: block; margin: 0 auto\">\n",
    "\n",
    "The above diagram is also known as a **fully-connected network** because every neuron is connected to every other neuron. This does not have to be the case, which we will demonstrate later.\n",
    "\n",
    "*TODO: change the image to label w_11 etc*"
   ]
  },
  {
   "cell_type": "markdown",
   "metadata": {},
   "source": [
    "# 3. Activation Function\n",
    "\n",
    "## 3.1 Step Function\n",
    "\n",
    "The activation function is the function that takes you from the input to the output. For a Perceptron, it is the step function."
   ]
  },
  {
   "cell_type": "code",
   "execution_count": 58,
   "metadata": {},
   "outputs": [
    {
     "data": {
      "image/png": "[encoded data removed]",
      "text/plain": [
       "<Figure size 640x480 with 1 Axes>"
      ]
     },
     "metadata": {},
     "output_type": "display_data"
    }
   ],
   "source": [
    "import matplotlib.pyplot as plt\n",
    "\n",
    "x = [-1, 0, 1] \n",
    "y = [0, 0, 1]\n",
    "\n",
    "fig, ax = plt.subplots()\n",
    "ax.step(x, y, color='red', linewidth=3)\n",
    "\n",
    "# Move the y-axis ticks to the center\n",
    "ax.spines['left'].set_position('center')\n"
   ]
  },
  {
   "cell_type": "markdown",
   "metadata": {},
   "source": [
    "So far, we have assumed we live in the perfect world where we know all the weights and biases. In reality, we need to find them. \n",
    "\n",
    "This is done by randomly assigning weights and biases.\n",
    "Why?\n",
    "Because we don't know where else to start.\n",
    "Then we run the network on each training example, compare the output and the desired output, and adjust the weights to minimise the error.\n",
    "\n",
    "We want to find the weights and biases of the entire network, i.e. the **parameters of the network**. \n",
    "Starting from a random value, we we need to see what the impact of changing a particular parameter is (e.g. $w_{1,1}).\n",
    "We want a small change in a parameter to lead to a small change in the activation towards the desired activation.\n",
    "\n",
    "This is where we encounter our first problem with perceptrons: their activation function is a step function.\n",
    "\n",
    "*TODO: insert diagram with 2 inputs to 1 perceptron, labelled w1, w2, etc*\n"
   ]
  },
  {
   "cell_type": "code",
   "execution_count": 66,
   "metadata": {},
   "outputs": [
    {
     "data": {
      "application/vnd.jupyter.widget-view+json": {
       "model_id": "8f091b873b554b26b4117fd7f09c274e",
       "version_major": 2,
       "version_minor": 0
      },
      "text/plain": [
       "interactive(children=(FloatSlider(value=0.0, description='delta_z', max=0.5, min=-0.15, step=0.01), Output()),…"
      ]
     },
     "metadata": {},
     "output_type": "display_data"
    },
    {
     "data": {
      "text/plain": [
       "<function __main__.plot_sine(delta_z)>"
      ]
     },
     "execution_count": 66,
     "metadata": {},
     "output_type": "execute_result"
    }
   ],
   "source": [
    "import numpy as np\n",
    "import matplotlib.pyplot as plt\n",
    "from ipywidgets import interact, FloatSlider\n",
    "\n",
    "def step_function(x):\n",
    "    return np.where(x > 0, 1, 0)\n",
    "\n",
    "# Define the function to plot\n",
    "def plot_sine(delta_z):\n",
    "\n",
    "    # plot step function\n",
    "    x = [-0.55, 0, 0.45] \n",
    "    y = [0, 0, 1]\n",
    "    plt.step(x, y, color='black', linewidth=3)\n",
    "\n",
    "    # plot the starting point\n",
    "    z0 = -0.05\n",
    "    z = z0 + delta_z\n",
    "    plt.plot(z0, step_function(z0), 'ro', markerfacecolor='none')\n",
    "    plt.text(z0, step_function(z0) - 0.2, rf'$z_0 = {z0}$', fontsize=12, ha='center')\n",
    "\n",
    "    # plot the moving point\n",
    "    plt.plot(z, step_function(z), 'ro')\n",
    "    plt.text(z, step_function(z) + 0.2, rf'$z = z_0 + \\Delta z = {z:.2f}$', fontsize=12, ha='right')\n",
    "\n",
    "    plt.ylim(-1, 2)\n",
    "    plt.xlabel(r'$z = \\mathbf{w \\cdot x} + b$')\n",
    "    plt.ylabel(r'$a = f(z)$')\n",
    "    plt.title(rf'Impact of changing $z$ on activation')\n",
    "    plt.show()\n",
    "\n",
    "# Create the slider\n",
    "slider = FloatSlider(min=-0.15, max=0.5, step=0.01, value=0)\n",
    "\n",
    "# Create the interactive plot\n",
    "interact(plot_sine, delta_z=slider)"
   ]
  },
  {
   "cell_type": "markdown",
   "metadata": {},
   "source": [
    "Say we change $w_1$ by $\\Delta w_1$, which will change $z$, which will impact $a = f(z)$. \n",
    "If we move the slider to the left, $z$ changes (red dot moves left), but the activation $a$ does not change: it was 0 before, but because $z < 0$, it remains unchanged at 0.\n",
    "If we move the slider slightly to the right, $a$ does not change either.\n",
    "We changed $w_1$ (and therefore $z$) in both ways and learned nothing about the impact of $w_1$.\n",
    "\n",
    "If you move the slider further to the right, all of a sudden $z > 0$ and $a = 1$.\n",
    "\n",
    "With the step function as the activation function, it's difficult to figure out how to adjust the weights and biases to get the desired activation/output.\n",
    "There is a lack of change or the sudden change in the output with a small change in the parameters.\n",
    "This is even more the case with a network of perceptrons.\n",
    "\n",
    "Since the step function is difficult to work with, we want to work with smoother functions, like the sigmoid function."
   ]
  },
  {
   "cell_type": "markdown",
   "metadata": {},
   "source": [
    "## 3.2 Sigmoid Function"
   ]
  },
  {
   "cell_type": "code",
   "execution_count": 76,
   "metadata": {},
   "outputs": [
    {
     "data": {
      "application/vnd.jupyter.widget-view+json": {
       "model_id": "3c9c6024d94e43f2a3312cabfaa3098e",
       "version_major": 2,
       "version_minor": 0
      },
      "text/plain": [
       "interactive(children=(FloatSlider(value=0.0, description='delta_z', max=15.0, min=-7.0), Output()), _dom_class…"
      ]
     },
     "metadata": {},
     "output_type": "display_data"
    },
    {
     "data": {
      "text/plain": [
       "<function __main__.plot_sine(delta_z)>"
      ]
     },
     "execution_count": 76,
     "metadata": {},
     "output_type": "execute_result"
    }
   ],
   "source": [
    "import numpy as np\n",
    "import matplotlib.pyplot as plt\n",
    "from ipywidgets import interact, FloatSlider\n",
    "\n",
    "def sigmoid(x):\n",
    "    return 1 / (1 + np.exp(-x))\n",
    "\n",
    "# Define the function to plot\n",
    "def plot_sine(delta_z):\n",
    "\n",
    "    # plot step function\n",
    "    x = np.linspace(-20, 20, 100)\n",
    "    y = sigmoid(x)\n",
    "\n",
    "    fig, ax = plt.subplots()\n",
    "    ax.plot(x, y, color='black', linewidth=3)\n",
    "\n",
    "    # Move the y-axis ticks to the center\n",
    "    ax.spines['left'].set_position('center')\n",
    "\n",
    "    # plot the starting point\n",
    "    z0 = -0.05\n",
    "    z = z0 + delta_z\n",
    "    ax.plot(z0, sigmoid(z0), 'ro', markerfacecolor='none')\n",
    "    ax.text(z0, sigmoid(z0) - 0.2, rf'$z_0 = {z0}$', fontsize=12, ha='center')\n",
    "\n",
    "    # plot the moving point\n",
    "    ax.plot(z, sigmoid(z), 'ro')\n",
    "    ax.text(z, sigmoid(z) + 0.2, rf'$z = z_0 + \\Delta z = {z:.2f}$', fontsize=12, ha='right')\n",
    "\n",
    "    ax.set_ylim([-0.5, 1.5])\n",
    "    # ax.set_xlim([0, 12])\n",
    "    # ax.ylim(-1, 2)\n",
    "    # ax.xlabel(r'$z = \\mathbf{w \\cdot x} + b$')\n",
    "    # ax.ylabel(r'$a = f(z)$')\n",
    "    ax.set_title(rf'Impact of changing $z$ on activation')\n",
    "    plt.show()\n",
    "\n",
    "# Create the slider\n",
    "slider = FloatSlider(min=-7, max=15, step=0.1, value=0)\n",
    "\n",
    "# Create the interactive plot\n",
    "interact(plot_sine, delta_z=slider)"
   ]
  },
  {
   "cell_type": "markdown",
   "metadata": {},
   "source": [
    "The sigmoid neuron is almost exactly the same as a perceptron, but the activation function is the sigma function $\\sigma$.\n",
    "\n",
    "$$\n",
    "a = \\sigma (z) = \\frac{1}{1 + e^{-z}}\n",
    "$$\n",
    "\n",
    "Sigma looks like a \"blurred\" or smoother version of the step function. \n",
    "Its behaviour is muh more benign and predictable: when you change $w_1$, you have a measurable change in the output $a$.\n",
    "The output transitions more smoothly with respect to changes in parameters (weights and biases).\n",
    "\n",
    "The sigma function is one of many different types of smooth activation functions used in neural networks. Other examples include:\n",
    "\n",
    "$$\n",
    "\\tanh(x) = \\frac{e^{x} - e^{-x}}{e^{x} + e^{-x}}\n",
    "$$\n",
    "$$\n",
    "\\frac{d}{dx}\\tanh(x) = 1 - \\tanh^2(x)\n",
    "$$\n",
    "$$\n",
    "\\text{Swish}(x) = x \\cdot \\frac{1}{1 + e^{-\\beta x}}\n",
    "$$\n",
    "$$\n",
    "\\text{ELU}(x) = \\begin{cases} x, & \\text{if } x > 0 \\\\ \\alpha (e^x - 1), & \\text{otherwise} \\end{cases}\n",
    "$$"
   ]
  },
  {
   "cell_type": "markdown",
   "metadata": {},
   "source": [
    "# 4. Neural Network\n",
    "\n",
    "Now we have a neural network that uses the sigmoid activation function.\n",
    "What shall we do with all this power?\n",
    "\n",
    "## 4.1 MNIST Handwritten Digit Recognition\n",
    "\n",
    "This is a classic problem for neural networks. "
   ]
  },
  {
   "cell_type": "code",
   "execution_count": 1,
   "metadata": {},
   "outputs": [
    {
     "data": {
      "image/png": "[encoded data removed]",
      "text/plain": [
       "<Figure size 640x480 with 9 Axes>"
      ]
     },
     "metadata": {},
     "output_type": "display_data"
    }
   ],
   "source": [
    "# Plot of images as baseline for comparison \n",
    "from keras.datasets import mnist \n",
    "from matplotlib import pyplot \n",
    "# load data \n",
    "(X_train, y_train), (X_test, y_test) = mnist.load_data() \n",
    "# create a grid of 3x3 images \n",
    "for i in range(0, 9): \n",
    "    pyplot.subplot(330 + 1 + i) \n",
    "    pyplot.imshow(X_train[i], cmap=pyplot.get_cmap('gray'))\n",
    "# show the plot\n",
    "pyplot.show()"
   ]
  },
  {
   "cell_type": "markdown",
   "metadata": {},
   "source": [
    "Each digit has been binarised and rescaled into an image roughly 20x20 pixels, which is centred in a larger image of 28x28 pixels.\n",
    "\n",
    "We want to develop a neural network where it takes one of these images as input. The idea is to have the neural network have a high activation/output for the digit that it thinks the input corresponds to, and a low output for all the other digits.\n",
    "\n",
    "*TODO: insert image of architecture we'll be using*\n",
    "\n",
    "In Section 3, we introduced the idea of finding the parameters of the network by starting with a random set and adjusting them to get to the desired activation.\n",
    "How do we change the weights and biases in such a way that our activations/outputs end up approaching the desired activations? \n",
    "This is the process of training.\n",
    "\n",
    "The key to any network is lots of training data - the more the better.\n",
    "The training data in this case is pairs out inputs and outputs, labels by users/experts, which are converted to the desired activation.\n",
    "\n",
    "*TODO: insert diagram of inputs, labels and desired activations here*\n",
    "\n",
    "*TODO: insert diagram of training process here*\n",
    "\n",
    "1. Initialise the weights and biases of network with random values.\n",
    "2. Compute network activation (output) for each training image.\n",
    "This is just a feed forward process: for each image, run it through the network and get an activation and the output.\n",
    "3. Compute the cost for the entire training data.\n",
    "By doing this you get an activation for each training image, not the desired activation. We see the activation that this particular instance of the network is going to give you.\n",
    "Using all these activations, you can compute the cost for the entire training data.\n",
    "The weaker the performance of the network, the larger the cost.\n",
    "Lower the cost, better the classification.\n",
    "We're looking for the ws and bs that give us the minimum cost. We lower the cost, the classification improves and the performance of the network improves.\n",
    "4. Update weights and biases using Gradient Descent.\n",
    "Using the cost, we can adjust the weights and biases of the network using a method called Gradient Descent.\n",
    "5. Repeat steps 2-4 until the cost reduces to an acceptable network, then you freeze the network."
   ]
  },
  {
   "cell_type": "code",
   "execution_count": null,
   "metadata": {},
   "outputs": [],
   "source": []
  }
 ],
 "metadata": {
  "kernelspec": {
   "display_name": "edc2024",
   "language": "python",
   "name": "python3"
  },
  "language_info": {
   "codemirror_mode": {
    "name": "ipython",
    "version": 3
   },
   "file_extension": ".py",
   "mimetype": "text/x-python",
   "name": "python",
   "nbconvert_exporter": "python",
   "pygments_lexer": "ipython3",
   "version": "3.10.15"
  }
 },
 "nbformat": 4,
 "nbformat_minor": 2
}
