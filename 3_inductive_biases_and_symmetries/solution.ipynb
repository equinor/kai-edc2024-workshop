{
 "cells": [
  {
   "cell_type": "markdown",
   "metadata": {},
   "source": [
    "# 3. Inductive biases and symmetries"
   ]
  },
  {
   "cell_type": "markdown",
   "metadata": {},
   "source": [
    "**Group work:** It's time for group work! Form groups of 2 and work through the notebook together.\n",
    "\n",
    "In the previous notebook, we saw that neural networks can be used to solve a large variety of tasks, ranging from image classification to XX. The main reason for the verstility of neural networks is two-fold: 1. neural networks are universal function approximators, meaning they can learn any function from data; and 2. surprisingly many tasks can be approximated as input-output relationships, i.e. functions. For example, we saw that digit classification can be achieved by learning a probability density function, $p(y | x)$, where $x$ denotes the pixels in the image, and $y$ denotes the digit. In this notebook, we dive deeper into some of the challenges of learning functions from data -- challenges that are important to understand when modelling language with neural networks.\n",
    "\n",
    "More specifically, we focus on two related aspects of training neural networks: 1. the ability of neural networks to learn efficiently from data; and 2. the ability of neural networks to generalise beyond the training data.\n",
    "\n",
    "**Learning outcomes:**\n",
    "\n",
    "1. An intuitive understanding of architectural choices for neural networks\n",
    "2. The limitations of learning functions from data (especially for extrapolation!)\n",
    "3. The value of prior knowledge for more efficient learning and better generalisation\n",
    "\n",
    "Credit goes to https://medium.com/@bpoyeka1/building-simple-neural-networks-nn-cnn-using-pytorch-for-mnist-dataset-31e459d17788 for providing a starting point of this notebook."
   ]
  },
  {
   "cell_type": "markdown",
   "metadata": {},
   "source": [
    "## 3.1 The limitations of learning functions from data: using MNIST as an example"
   ]
  },
  {
   "cell_type": "code",
   "execution_count": 42,
   "metadata": {},
   "outputs": [],
   "source": [
    "import matplotlib.gridspec as gridspec\n",
    "import matplotlib.pyplot as plt\n",
    "import torch\n",
    "import torch.nn as nn  # all neural network modules\n",
    "import torch.optim as optim  # optimization algo\n",
    "import torch.nn.functional as F  # Functions with no parameters -> activation functions\n",
    "from torch.utils.data import DataLoader  # easier dataset management, helps create mini batches\n",
    "import torchvision.datasets as datasets  # standard datasets\n",
    "import torchvision.transforms as transforms"
   ]
  },
  {
   "cell_type": "code",
   "execution_count": 2,
   "metadata": {},
   "outputs": [],
   "source": [
    "class NN(nn.Module):  # inherits nn.Module\n",
    "\n",
    "    def __init__(self, input_size, num_classes):  # input size = 28x28 = 784 for mnist\n",
    "        super(NN, self).__init__()\n",
    "        self.fc1 = nn.Linear(input_size, 50)\n",
    "        self.fc2 = nn.Linear(50, num_classes)\n",
    "\n",
    "    def forward(self, x):\n",
    "        x = F.relu(self.fc1(x))\n",
    "        x = self.fc2(x)\n",
    "        return x"
   ]
  },
  {
   "cell_type": "code",
   "execution_count": 3,
   "metadata": {},
   "outputs": [
    {
     "name": "stdout",
     "output_type": "stream",
     "text": [
      "Downloading http://yann.lecun.com/exdb/mnist/train-images-idx3-ubyte.gz\n",
      "Failed to download (trying next):\n",
      "<urlopen error [SSL: CERTIFICATE_VERIFY_FAILED] certificate verify failed: certificate has expired (_ssl.c:1000)>\n",
      "\n",
      "Downloading https://ossci-datasets.s3.amazonaws.com/mnist/train-images-idx3-ubyte.gz\n",
      "Downloading https://ossci-datasets.s3.amazonaws.com/mnist/train-images-idx3-ubyte.gz to dataset/MNIST/raw/train-images-idx3-ubyte.gz\n"
     ]
    },
    {
     "name": "stderr",
     "output_type": "stream",
     "text": [
      "100.0%\n"
     ]
    },
    {
     "name": "stdout",
     "output_type": "stream",
     "text": [
      "Extracting dataset/MNIST/raw/train-images-idx3-ubyte.gz to dataset/MNIST/raw\n",
      "\n",
      "Downloading http://yann.lecun.com/exdb/mnist/train-labels-idx1-ubyte.gz\n",
      "Failed to download (trying next):\n",
      "<urlopen error [SSL: CERTIFICATE_VERIFY_FAILED] certificate verify failed: certificate has expired (_ssl.c:1000)>\n",
      "\n",
      "Downloading https://ossci-datasets.s3.amazonaws.com/mnist/train-labels-idx1-ubyte.gz\n",
      "Downloading https://ossci-datasets.s3.amazonaws.com/mnist/train-labels-idx1-ubyte.gz to dataset/MNIST/raw/train-labels-idx1-ubyte.gz\n"
     ]
    },
    {
     "name": "stderr",
     "output_type": "stream",
     "text": [
      "100.0%\n"
     ]
    },
    {
     "name": "stdout",
     "output_type": "stream",
     "text": [
      "Extracting dataset/MNIST/raw/train-labels-idx1-ubyte.gz to dataset/MNIST/raw\n",
      "\n",
      "Downloading http://yann.lecun.com/exdb/mnist/t10k-images-idx3-ubyte.gz\n",
      "Failed to download (trying next):\n",
      "<urlopen error [SSL: CERTIFICATE_VERIFY_FAILED] certificate verify failed: certificate has expired (_ssl.c:1000)>\n",
      "\n",
      "Downloading https://ossci-datasets.s3.amazonaws.com/mnist/t10k-images-idx3-ubyte.gz\n",
      "Downloading https://ossci-datasets.s3.amazonaws.com/mnist/t10k-images-idx3-ubyte.gz to dataset/MNIST/raw/t10k-images-idx3-ubyte.gz\n"
     ]
    },
    {
     "name": "stderr",
     "output_type": "stream",
     "text": [
      "100.0%\n"
     ]
    },
    {
     "name": "stdout",
     "output_type": "stream",
     "text": [
      "Extracting dataset/MNIST/raw/t10k-images-idx3-ubyte.gz to dataset/MNIST/raw\n",
      "\n",
      "Downloading http://yann.lecun.com/exdb/mnist/t10k-labels-idx1-ubyte.gz\n",
      "Failed to download (trying next):\n",
      "<urlopen error [SSL: CERTIFICATE_VERIFY_FAILED] certificate verify failed: certificate has expired (_ssl.c:1000)>\n",
      "\n",
      "Downloading https://ossci-datasets.s3.amazonaws.com/mnist/t10k-labels-idx1-ubyte.gz\n",
      "Downloading https://ossci-datasets.s3.amazonaws.com/mnist/t10k-labels-idx1-ubyte.gz to dataset/MNIST/raw/t10k-labels-idx1-ubyte.gz\n"
     ]
    },
    {
     "name": "stderr",
     "output_type": "stream",
     "text": [
      "100.0%"
     ]
    },
    {
     "name": "stdout",
     "output_type": "stream",
     "text": [
      "Extracting dataset/MNIST/raw/t10k-labels-idx1-ubyte.gz to dataset/MNIST/raw\n",
      "\n"
     ]
    },
    {
     "name": "stderr",
     "output_type": "stream",
     "text": [
      "\n"
     ]
    }
   ],
   "source": [
    "batch_size = 64\n",
    "\n",
    "# Load Data\n",
    "train_dataset = datasets.MNIST(root='dataset/', train=True, transform=transforms.ToTensor(), download=True)\n",
    "train_loader = DataLoader(dataset=train_dataset, batch_size=batch_size, shuffle=True)\n",
    "\n",
    "test_dataset = datasets.MNIST(root='dataset/', train=False, transform=transforms.ToTensor(), download=True)\n",
    "test_loader = DataLoader(dataset=test_dataset, batch_size=batch_size, shuffle=True)"
   ]
  },
  {
   "cell_type": "code",
   "execution_count": 4,
   "metadata": {},
   "outputs": [],
   "source": [
    "# Set Device\n",
    "device = torch.device('cuda' if torch.cuda.is_available() else 'cpu')"
   ]
  },
  {
   "cell_type": "code",
   "execution_count": 6,
   "metadata": {},
   "outputs": [],
   "source": [
    "# Hyperparameters\n",
    "input_size = 784\n",
    "num_classes = 10\n",
    "learning_rate = 0.001\n",
    "num_epochs = 5\n",
    "\n",
    "# Initialize Network\n",
    "model = NN(input_size=input_size, num_classes=num_classes).to(device)\n",
    "\n",
    "# Loss and Optimizer\n",
    "criterion = nn.CrossEntropyLoss()\n",
    "optimizer = optim.Adam(model.parameters(), lr=learning_rate)"
   ]
  },
  {
   "cell_type": "code",
   "execution_count": 7,
   "metadata": {},
   "outputs": [
    {
     "name": "stdout",
     "output_type": "stream",
     "text": [
      "Epoch: 0\n",
      "torch.Size([64, 784])\n",
      "Epoch: 1\n",
      "Epoch: 2\n",
      "Epoch: 3\n",
      "Epoch: 4\n"
     ]
    }
   ],
   "source": [
    "# Train Network\n",
    "for epoch in range(num_epochs):\n",
    "# 1 epoch => Network has seen all the images in the dataset\n",
    "\n",
    "    print(f'Epoch: {epoch}')\n",
    "\n",
    "    for batch_idx, (data, targets) in enumerate(train_loader):\n",
    "\n",
    "        data = data.to(device=device)\n",
    "        targets = targets.to(device=device)\n",
    "\n",
    "        # print(data.shape)  # => [64 , 1, 28, 28] => 64 : num_images, 1 -> num_channels, (28,28): (height, width)\n",
    "        data = data.reshape(data.shape[0], -1)  # Flatten\n",
    "        if epoch == 0 and batch_idx == 0:\n",
    "            print(data.shape)\n",
    "\n",
    "        # forward\n",
    "        scores = model(data)\n",
    "\n",
    "        loss = criterion(scores, targets)\n",
    "\n",
    "        # backward\n",
    "        optimizer.zero_grad()  # set all gradients to zero for each batch\n",
    "        loss.backward()\n",
    "\n",
    "        # gradient descent\n",
    "        optimizer.step()"
   ]
  },
  {
   "cell_type": "code",
   "execution_count": 8,
   "metadata": {},
   "outputs": [
    {
     "name": "stdout",
     "output_type": "stream",
     "text": [
      "Accuracy on training data\n",
      "Got 58355/60000 with accuracy  97.26\n",
      "Accuracy on testing data\n",
      "Got 9657/10000 with accuracy  96.57\n"
     ]
    }
   ],
   "source": [
    "def check_accuracy(loader, model):\n",
    "\n",
    "    if loader.dataset.train:\n",
    "        print(\"Accuracy on training data\")\n",
    "    else:\n",
    "        print(\"Accuracy on testing data\")\n",
    "\n",
    "    num_correct = 0\n",
    "    num_samples = 0\n",
    "    model.eval()\n",
    "\n",
    "    with torch.no_grad():  # dont compute gradients\n",
    "        for x, y in loader:\n",
    "            x = x.to(device=device)\n",
    "            y = y.to(device=device)\n",
    "            x = x.reshape(x.shape[0],-1)\n",
    "\n",
    "            scores = model(x)\n",
    "            _, predictions = scores.max(1)\n",
    "\n",
    "            # print(predictions)\n",
    "\n",
    "            num_correct += (predictions == y).sum()\n",
    "            num_samples += predictions.size(0)\n",
    "\n",
    "        print(f'Got {num_correct}/{num_samples} with accuracy {float(num_correct)/float(num_samples)*100: .2f}')\n",
    "\n",
    "    model.train()\n",
    "\n",
    "\n",
    "check_accuracy(train_loader, model)\n",
    "check_accuracy(test_loader, model)"
   ]
  },
  {
   "cell_type": "code",
   "execution_count": 20,
   "metadata": {},
   "outputs": [
    {
     "data": {
      "image/png": "[encoded data removed]",
      "text/plain": [
       "<Figure size 640x480 with 1 Axes>"
      ]
     },
     "metadata": {},
     "output_type": "display_data"
    }
   ],
   "source": [
    "images, labels = next(iter(train_loader))\n",
    "plt.imshow(images[0][0])\n",
    "plt.show()"
   ]
  },
  {
   "cell_type": "markdown",
   "metadata": {},
   "source": [
    "Padding"
   ]
  },
  {
   "cell_type": "code",
   "execution_count": 31,
   "metadata": {},
   "outputs": [
    {
     "data": {
      "image/png": "[encoded data removed]",
      "text/plain": [
       "<Figure size 1650x900 with 4 Axes>"
      ]
     },
     "metadata": {},
     "output_type": "display_data"
    }
   ],
   "source": [
    "n_batch, n_channels, n_width, n_height = images.shape\n",
    "padded = torch.zeros(size=(n_batch, n_channels, n_width*2, n_height*2))\n",
    "padded[:, :, :n_width, :n_height] = images\n",
    "\n",
    "# Create layout\n",
    "fontsize = 14\n",
    "my_dpi = 192\n",
    "fig = plt.figure(figsize=(2250 // my_dpi, 1200 // my_dpi), dpi=150)\n",
    "outer = gridspec.GridSpec(1, 4)\n",
    "\n",
    "# Create axes\n",
    "axes = []\n",
    "axes.append(plt.Subplot(fig, outer[0]))\n",
    "axes.append(plt.Subplot(fig, outer[1]))\n",
    "axes.append(plt.Subplot(fig, outer[2]))\n",
    "axes.append(plt.Subplot(fig, outer[3]))\n",
    "\n",
    "# Add axes to figure\n",
    "for ax in axes:\n",
    "    fig.add_subplot(ax)\n",
    "\n",
    "for ida, ax in enumerate(axes):\n",
    "    ax.imshow(padded[ida][0])\n",
    "plt.show()"
   ]
  },
  {
   "cell_type": "code",
   "execution_count": 21,
   "metadata": {},
   "outputs": [
    {
     "data": {
      "text/plain": [
       "torch.Size([64, 1, 28, 28])"
      ]
     },
     "execution_count": 21,
     "metadata": {},
     "output_type": "execute_result"
    }
   ],
   "source": [
    "images.shape"
   ]
  },
  {
   "cell_type": "markdown",
   "metadata": {},
   "source": [
    "Run again"
   ]
  },
  {
   "cell_type": "code",
   "execution_count": 24,
   "metadata": {},
   "outputs": [],
   "source": [
    "# Hyperparameters\n",
    "input_size = 784 * 4\n",
    "num_classes = 10\n",
    "learning_rate = 0.001\n",
    "num_epochs = 5\n",
    "\n",
    "# Initialize Network\n",
    "model = NN(input_size=input_size, num_classes=num_classes).to(device)\n",
    "\n",
    "# Loss and Optimizer\n",
    "criterion = nn.CrossEntropyLoss()\n",
    "optimizer = optim.Adam(model.parameters(), lr=learning_rate)"
   ]
  },
  {
   "cell_type": "code",
   "execution_count": 25,
   "metadata": {},
   "outputs": [
    {
     "name": "stdout",
     "output_type": "stream",
     "text": [
      "Epoch: 0\n",
      "torch.Size([64, 3136])\n",
      "Epoch: 1\n",
      "Epoch: 2\n",
      "Epoch: 3\n",
      "Epoch: 4\n"
     ]
    }
   ],
   "source": [
    "# Train Network\n",
    "for epoch in range(num_epochs):\n",
    "# 1 epoch => Network has seen all the images in the dataset\n",
    "\n",
    "    print(f'Epoch: {epoch}')\n",
    "\n",
    "    for batch_idx, (data, targets) in enumerate(train_loader):\n",
    "        # Pad images\n",
    "        n_batch, n_channels, n_width, n_height = data.shape\n",
    "        padded = torch.zeros(size=(n_batch, n_channels, n_width*2, n_height*2))\n",
    "        padded[:, :, :n_width, :n_height] = data\n",
    "        data = padded\n",
    "\n",
    "        data = data.to(device=device)\n",
    "        targets = targets.to(device=device)\n",
    "\n",
    "        data = data.reshape(data.shape[0], -1)  # Flatten\n",
    "        if epoch == 0 and batch_idx == 0:\n",
    "            print(data.shape)\n",
    "\n",
    "        # forward\n",
    "        scores = model(data)\n",
    "\n",
    "        loss = criterion(scores, targets)\n",
    "\n",
    "        # backward\n",
    "        optimizer.zero_grad()  # set all gradients to zero for each batch\n",
    "        loss.backward()\n",
    "\n",
    "        # gradient descent\n",
    "        optimizer.step()"
   ]
  },
  {
   "cell_type": "code",
   "execution_count": 26,
   "metadata": {},
   "outputs": [
    {
     "name": "stdout",
     "output_type": "stream",
     "text": [
      "Accuracy on training data\n",
      "Got 58210/60000 with accuracy  97.02\n",
      "Accuracy on testing data\n",
      "Got 9637/10000 with accuracy  96.37\n"
     ]
    }
   ],
   "source": [
    "def check_accuracy(loader, model):\n",
    "\n",
    "    if loader.dataset.train:\n",
    "        print(\"Accuracy on training data\")\n",
    "    else:\n",
    "        print(\"Accuracy on testing data\")\n",
    "\n",
    "    num_correct = 0\n",
    "    num_samples = 0\n",
    "    model.eval()\n",
    "\n",
    "    with torch.no_grad():  # dont compute gradients\n",
    "        for x, y in loader:\n",
    "            # Pad images\n",
    "            n_batch, n_channels, n_width, n_height = x.shape\n",
    "            padded = torch.zeros(size=(n_batch, n_channels, n_width*2, n_height*2))\n",
    "            padded[:, :, :n_width, :n_height] = x\n",
    "            x = padded\n",
    "\n",
    "            x = x.to(device=device)\n",
    "            y = y.to(device=device)\n",
    "            x = x.reshape(x.shape[0],-1)\n",
    "\n",
    "            scores = model(x)\n",
    "            _, predictions = scores.max(1)\n",
    "\n",
    "            # print(predictions)\n",
    "\n",
    "            num_correct += (predictions == y).sum()\n",
    "            num_samples += predictions.size(0)\n",
    "\n",
    "        print(f'Got {num_correct}/{num_samples} with accuracy {float(num_correct)/float(num_samples)*100: .2f}')\n",
    "\n",
    "    model.train()\n",
    "\n",
    "\n",
    "check_accuracy(train_loader, model)\n",
    "check_accuracy(test_loader, model)"
   ]
  },
  {
   "cell_type": "code",
   "execution_count": 28,
   "metadata": {},
   "outputs": [
    {
     "name": "stdout",
     "output_type": "stream",
     "text": [
      "Got 901/10000 with accuracy  9.01\n"
     ]
    }
   ],
   "source": [
    "def check_accuracy_test2(model):\n",
    "\n",
    "    num_correct = 0\n",
    "    num_samples = 0\n",
    "    model.eval()\n",
    "\n",
    "    with torch.no_grad():  # dont compute gradients\n",
    "        for x, y in test_loader:\n",
    "            # Pad images\n",
    "            n_batch, n_channels, n_width, n_height = x.shape\n",
    "            padded = torch.zeros(size=(n_batch, n_channels, n_width*2, n_height*2))\n",
    "            padded[:, :, -n_width:, -n_height:] = x\n",
    "            x = padded\n",
    "\n",
    "            x = x.to(device=device)\n",
    "            y = y.to(device=device)\n",
    "            x = x.reshape(x.shape[0],-1)\n",
    "\n",
    "            scores = model(x)\n",
    "            _, predictions = scores.max(1)\n",
    "\n",
    "            # print(predictions)\n",
    "\n",
    "            num_correct += (predictions == y).sum()\n",
    "            num_samples += predictions.size(0)\n",
    "\n",
    "        print(f'Got {num_correct}/{num_samples} with accuracy {float(num_correct)/float(num_samples)*100: .2f}')\n",
    "\n",
    "    model.train()\n",
    "\n",
    "check_accuracy_test2(model)"
   ]
  },
  {
   "cell_type": "code",
   "execution_count": 41,
   "metadata": {},
   "outputs": [
    {
     "data": {
      "image/png": "[encoded data removed]",
      "text/plain": [
       "<Figure size 1650x900 with 4 Axes>"
      ]
     },
     "metadata": {},
     "output_type": "display_data"
    }
   ],
   "source": [
    "n_batch, n_channels, n_width, n_height = images.shape\n",
    "padded = torch.zeros(size=(n_batch, n_channels, n_width*2, n_height*2))\n",
    "padded[:, :, -n_width:, -n_height:] = images\n",
    "\n",
    "# Create layout\n",
    "fontsize = 14\n",
    "my_dpi = 192\n",
    "fig = plt.figure(figsize=(2250 // my_dpi, 1200 // my_dpi), dpi=150)\n",
    "outer = gridspec.GridSpec(1, 4)\n",
    "\n",
    "# Create axes\n",
    "axes = []\n",
    "axes.append(plt.Subplot(fig, outer[0]))\n",
    "axes.append(plt.Subplot(fig, outer[1]))\n",
    "axes.append(plt.Subplot(fig, outer[2]))\n",
    "axes.append(plt.Subplot(fig, outer[3]))\n",
    "\n",
    "# Add axes to figure\n",
    "for ax in axes:\n",
    "    fig.add_subplot(ax)\n",
    "\n",
    "for ida, ax in enumerate(axes):\n",
    "    ax.imshow(padded[ida][0], cmap='gray')\n",
    "plt.show()"
   ]
  },
  {
   "cell_type": "markdown",
   "metadata": {},
   "source": [
    "Why does the network not work? exercise discussion.."
   ]
  },
  {
   "cell_type": "markdown",
   "metadata": {},
   "source": [
    "While neural can approximate any function, we only train their achieve these approximations only locally. This means that neural networks can only "
   ]
  },
  {
   "cell_type": "code",
   "execution_count": null,
   "metadata": {},
   "outputs": [],
   "source": []
  }
 ],
 "metadata": {
  "kernelspec": {
   "display_name": "venv",
   "language": "python",
   "name": "python3"
  },
  "language_info": {
   "codemirror_mode": {
    "name": "ipython",
    "version": 3
   },
   "file_extension": ".py",
   "mimetype": "text/x-python",
   "name": "python",
   "nbconvert_exporter": "python",
   "pygments_lexer": "ipython3",
   "version": "3.12.4"
  }
 },
 "nbformat": 4,
 "nbformat_minor": 2
}
